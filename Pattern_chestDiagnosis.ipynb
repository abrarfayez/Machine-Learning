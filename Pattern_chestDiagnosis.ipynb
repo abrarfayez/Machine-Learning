{
  "nbformat": 4,
  "nbformat_minor": 0,
  "metadata": {
    "accelerator": "GPU",
    "colab": {
      "name": "Pattern_chestDiagnosis.ipynb",
      "provenance": [],
      "collapsed_sections": [],
      "include_colab_link": true
    },
    "kernelspec": {
      "display_name": "Python 3",
      "name": "python3"
    },
    "widgets": {
      "application/vnd.jupyter.widget-state+json": {
        "bfcc2e60e2994574817f5db79d41d170": {
          "model_module": "@jupyter-widgets/controls",
          "model_name": "HBoxModel",
          "state": {
            "_view_name": "HBoxView",
            "_dom_classes": [],
            "_model_name": "HBoxModel",
            "_view_module": "@jupyter-widgets/controls",
            "_model_module_version": "1.5.0",
            "_view_count": null,
            "_view_module_version": "1.5.0",
            "box_style": "",
            "layout": "IPY_MODEL_0bd64be67eec49f4822b3e5543e481d9",
            "_model_module": "@jupyter-widgets/controls",
            "children": [
              "IPY_MODEL_0cb6f8196e7b43798c95cf4260889ff6",
              "IPY_MODEL_8918cfe9d3b9448b8a6b41288329e538"
            ]
          },
          "model_module_version": "1.5.0"
        },
        "0bd64be67eec49f4822b3e5543e481d9": {
          "model_module": "@jupyter-widgets/base",
          "model_name": "LayoutModel",
          "state": {
            "_view_name": "LayoutView",
            "grid_template_rows": null,
            "right": null,
            "justify_content": null,
            "_view_module": "@jupyter-widgets/base",
            "overflow": null,
            "_model_module_version": "1.2.0",
            "_view_count": null,
            "flex_flow": null,
            "width": null,
            "min_width": null,
            "border": null,
            "align_items": null,
            "bottom": null,
            "_model_module": "@jupyter-widgets/base",
            "top": null,
            "grid_column": null,
            "overflow_y": null,
            "overflow_x": null,
            "grid_auto_flow": null,
            "grid_area": null,
            "grid_template_columns": null,
            "flex": null,
            "_model_name": "LayoutModel",
            "justify_items": null,
            "grid_row": null,
            "max_height": null,
            "align_content": null,
            "visibility": null,
            "align_self": null,
            "height": null,
            "min_height": null,
            "padding": null,
            "grid_auto_rows": null,
            "grid_gap": null,
            "max_width": null,
            "order": null,
            "_view_module_version": "1.2.0",
            "grid_template_areas": null,
            "object_position": null,
            "object_fit": null,
            "grid_auto_columns": null,
            "margin": null,
            "display": null,
            "left": null
          },
          "model_module_version": "1.2.0"
        },
        "0cb6f8196e7b43798c95cf4260889ff6": {
          "model_module": "@jupyter-widgets/controls",
          "model_name": "FloatProgressModel",
          "state": {
            "_view_name": "ProgressView",
            "style": "IPY_MODEL_59eae8329aa148c8aa311d3c86770434",
            "_dom_classes": [],
            "description": "100%",
            "_model_name": "FloatProgressModel",
            "bar_style": "success",
            "max": 102502400,
            "_view_module": "@jupyter-widgets/controls",
            "_model_module_version": "1.5.0",
            "value": 102502400,
            "_view_count": null,
            "_view_module_version": "1.5.0",
            "orientation": "horizontal",
            "min": 0,
            "description_tooltip": null,
            "_model_module": "@jupyter-widgets/controls",
            "layout": "IPY_MODEL_97213f52f27a44d49dba9ac0d6c1250e"
          },
          "model_module_version": "1.5.0"
        },
        "8918cfe9d3b9448b8a6b41288329e538": {
          "model_module": "@jupyter-widgets/controls",
          "model_name": "HTMLModel",
          "state": {
            "_view_name": "HTMLView",
            "style": "IPY_MODEL_10b87de750d54322a66c753337716f36",
            "_dom_classes": [],
            "description": "",
            "_model_name": "HTMLModel",
            "placeholder": "​",
            "_view_module": "@jupyter-widgets/controls",
            "_model_module_version": "1.5.0",
            "value": " 97.8M/97.8M [00:00&lt;00:00, 117MB/s]",
            "_view_count": null,
            "_view_module_version": "1.5.0",
            "description_tooltip": null,
            "_model_module": "@jupyter-widgets/controls",
            "layout": "IPY_MODEL_d3af7a25aafe430ab1ab3f67f91cf848"
          },
          "model_module_version": "1.5.0"
        },
        "59eae8329aa148c8aa311d3c86770434": {
          "model_module": "@jupyter-widgets/controls",
          "model_name": "ProgressStyleModel",
          "state": {
            "_view_name": "StyleView",
            "_model_name": "ProgressStyleModel",
            "description_width": "initial",
            "_view_module": "@jupyter-widgets/base",
            "_model_module_version": "1.5.0",
            "_view_count": null,
            "_view_module_version": "1.2.0",
            "bar_color": null,
            "_model_module": "@jupyter-widgets/controls"
          },
          "model_module_version": "1.5.0"
        },
        "97213f52f27a44d49dba9ac0d6c1250e": {
          "model_module": "@jupyter-widgets/base",
          "model_name": "LayoutModel",
          "state": {
            "_view_name": "LayoutView",
            "grid_template_rows": null,
            "right": null,
            "justify_content": null,
            "_view_module": "@jupyter-widgets/base",
            "overflow": null,
            "_model_module_version": "1.2.0",
            "_view_count": null,
            "flex_flow": null,
            "width": null,
            "min_width": null,
            "border": null,
            "align_items": null,
            "bottom": null,
            "_model_module": "@jupyter-widgets/base",
            "top": null,
            "grid_column": null,
            "overflow_y": null,
            "overflow_x": null,
            "grid_auto_flow": null,
            "grid_area": null,
            "grid_template_columns": null,
            "flex": null,
            "_model_name": "LayoutModel",
            "justify_items": null,
            "grid_row": null,
            "max_height": null,
            "align_content": null,
            "visibility": null,
            "align_self": null,
            "height": null,
            "min_height": null,
            "padding": null,
            "grid_auto_rows": null,
            "grid_gap": null,
            "max_width": null,
            "order": null,
            "_view_module_version": "1.2.0",
            "grid_template_areas": null,
            "object_position": null,
            "object_fit": null,
            "grid_auto_columns": null,
            "margin": null,
            "display": null,
            "left": null
          },
          "model_module_version": "1.2.0"
        },
        "10b87de750d54322a66c753337716f36": {
          "model_module": "@jupyter-widgets/controls",
          "model_name": "DescriptionStyleModel",
          "state": {
            "_view_name": "StyleView",
            "_model_name": "DescriptionStyleModel",
            "description_width": "",
            "_view_module": "@jupyter-widgets/base",
            "_model_module_version": "1.5.0",
            "_view_count": null,
            "_view_module_version": "1.2.0",
            "_model_module": "@jupyter-widgets/controls"
          },
          "model_module_version": "1.5.0"
        },
        "d3af7a25aafe430ab1ab3f67f91cf848": {
          "model_module": "@jupyter-widgets/base",
          "model_name": "LayoutModel",
          "state": {
            "_view_name": "LayoutView",
            "grid_template_rows": null,
            "right": null,
            "justify_content": null,
            "_view_module": "@jupyter-widgets/base",
            "overflow": null,
            "_model_module_version": "1.2.0",
            "_view_count": null,
            "flex_flow": null,
            "width": null,
            "min_width": null,
            "border": null,
            "align_items": null,
            "bottom": null,
            "_model_module": "@jupyter-widgets/base",
            "top": null,
            "grid_column": null,
            "overflow_y": null,
            "overflow_x": null,
            "grid_auto_flow": null,
            "grid_area": null,
            "grid_template_columns": null,
            "flex": null,
            "_model_name": "LayoutModel",
            "justify_items": null,
            "grid_row": null,
            "max_height": null,
            "align_content": null,
            "visibility": null,
            "align_self": null,
            "height": null,
            "min_height": null,
            "padding": null,
            "grid_auto_rows": null,
            "grid_gap": null,
            "max_width": null,
            "order": null,
            "_view_module_version": "1.2.0",
            "grid_template_areas": null,
            "object_position": null,
            "object_fit": null,
            "grid_auto_columns": null,
            "margin": null,
            "display": null,
            "left": null
          },
          "model_module_version": "1.2.0"
        },
        "a34d1c6b07ab4d77bc044c4da047a579": {
          "model_module": "@jupyter-widgets/controls",
          "model_name": "HBoxModel",
          "state": {
            "_view_name": "HBoxView",
            "_dom_classes": [],
            "_model_name": "HBoxModel",
            "_view_module": "@jupyter-widgets/controls",
            "_model_module_version": "1.5.0",
            "_view_count": null,
            "_view_module_version": "1.5.0",
            "box_style": "",
            "layout": "IPY_MODEL_9a66a5f8ae9845a9b5c11ac2a3240c97",
            "_model_module": "@jupyter-widgets/controls",
            "children": [
              "IPY_MODEL_4b04c357cd9c4002af9dca5fdcf03b5e",
              "IPY_MODEL_7fc7511d9d764e19a81d3a31c506aef9"
            ]
          },
          "model_module_version": "1.5.0"
        },
        "9a66a5f8ae9845a9b5c11ac2a3240c97": {
          "model_module": "@jupyter-widgets/base",
          "model_name": "LayoutModel",
          "state": {
            "_view_name": "LayoutView",
            "grid_template_rows": null,
            "right": null,
            "justify_content": null,
            "_view_module": "@jupyter-widgets/base",
            "overflow": null,
            "_model_module_version": "1.2.0",
            "_view_count": null,
            "flex_flow": null,
            "width": null,
            "min_width": null,
            "border": null,
            "align_items": null,
            "bottom": null,
            "_model_module": "@jupyter-widgets/base",
            "top": null,
            "grid_column": null,
            "overflow_y": null,
            "overflow_x": null,
            "grid_auto_flow": null,
            "grid_area": null,
            "grid_template_columns": null,
            "flex": null,
            "_model_name": "LayoutModel",
            "justify_items": null,
            "grid_row": null,
            "max_height": null,
            "align_content": null,
            "visibility": null,
            "align_self": null,
            "height": null,
            "min_height": null,
            "padding": null,
            "grid_auto_rows": null,
            "grid_gap": null,
            "max_width": null,
            "order": null,
            "_view_module_version": "1.2.0",
            "grid_template_areas": null,
            "object_position": null,
            "object_fit": null,
            "grid_auto_columns": null,
            "margin": null,
            "display": null,
            "left": null
          },
          "model_module_version": "1.2.0"
        },
        "4b04c357cd9c4002af9dca5fdcf03b5e": {
          "model_module": "@jupyter-widgets/controls",
          "model_name": "FloatProgressModel",
          "state": {
            "_view_name": "ProgressView",
            "style": "IPY_MODEL_6bdbd64914214f1ead10cf450888ee94",
            "_dom_classes": [],
            "description": "100%",
            "_model_name": "FloatProgressModel",
            "bar_style": "success",
            "max": 115730790,
            "_view_module": "@jupyter-widgets/controls",
            "_model_module_version": "1.5.0",
            "value": 115730790,
            "_view_count": null,
            "_view_module_version": "1.5.0",
            "orientation": "horizontal",
            "min": 0,
            "description_tooltip": null,
            "_model_module": "@jupyter-widgets/controls",
            "layout": "IPY_MODEL_30fdf4f9a2634fd583b0785acfcf28b8"
          },
          "model_module_version": "1.5.0"
        },
        "7fc7511d9d764e19a81d3a31c506aef9": {
          "model_module": "@jupyter-widgets/controls",
          "model_name": "HTMLModel",
          "state": {
            "_view_name": "HTMLView",
            "style": "IPY_MODEL_48b8f85651ce4097b38f52d85658da8b",
            "_dom_classes": [],
            "description": "",
            "_model_name": "HTMLModel",
            "placeholder": "​",
            "_view_module": "@jupyter-widgets/controls",
            "_model_module_version": "1.5.0",
            "value": " 110M/110M [00:02&lt;00:00, 56.1MB/s]",
            "_view_count": null,
            "_view_module_version": "1.5.0",
            "description_tooltip": null,
            "_model_module": "@jupyter-widgets/controls",
            "layout": "IPY_MODEL_7b9cbdf55ec74fb2b8a01a90c02f8bc0"
          },
          "model_module_version": "1.5.0"
        },
        "6bdbd64914214f1ead10cf450888ee94": {
          "model_module": "@jupyter-widgets/controls",
          "model_name": "ProgressStyleModel",
          "state": {
            "_view_name": "StyleView",
            "_model_name": "ProgressStyleModel",
            "description_width": "initial",
            "_view_module": "@jupyter-widgets/base",
            "_model_module_version": "1.5.0",
            "_view_count": null,
            "_view_module_version": "1.2.0",
            "bar_color": null,
            "_model_module": "@jupyter-widgets/controls"
          },
          "model_module_version": "1.5.0"
        },
        "30fdf4f9a2634fd583b0785acfcf28b8": {
          "model_module": "@jupyter-widgets/base",
          "model_name": "LayoutModel",
          "state": {
            "_view_name": "LayoutView",
            "grid_template_rows": null,
            "right": null,
            "justify_content": null,
            "_view_module": "@jupyter-widgets/base",
            "overflow": null,
            "_model_module_version": "1.2.0",
            "_view_count": null,
            "flex_flow": null,
            "width": null,
            "min_width": null,
            "border": null,
            "align_items": null,
            "bottom": null,
            "_model_module": "@jupyter-widgets/base",
            "top": null,
            "grid_column": null,
            "overflow_y": null,
            "overflow_x": null,
            "grid_auto_flow": null,
            "grid_area": null,
            "grid_template_columns": null,
            "flex": null,
            "_model_name": "LayoutModel",
            "justify_items": null,
            "grid_row": null,
            "max_height": null,
            "align_content": null,
            "visibility": null,
            "align_self": null,
            "height": null,
            "min_height": null,
            "padding": null,
            "grid_auto_rows": null,
            "grid_gap": null,
            "max_width": null,
            "order": null,
            "_view_module_version": "1.2.0",
            "grid_template_areas": null,
            "object_position": null,
            "object_fit": null,
            "grid_auto_columns": null,
            "margin": null,
            "display": null,
            "left": null
          },
          "model_module_version": "1.2.0"
        },
        "48b8f85651ce4097b38f52d85658da8b": {
          "model_module": "@jupyter-widgets/controls",
          "model_name": "DescriptionStyleModel",
          "state": {
            "_view_name": "StyleView",
            "_model_name": "DescriptionStyleModel",
            "description_width": "",
            "_view_module": "@jupyter-widgets/base",
            "_model_module_version": "1.5.0",
            "_view_count": null,
            "_view_module_version": "1.2.0",
            "_model_module": "@jupyter-widgets/controls"
          },
          "model_module_version": "1.5.0"
        },
        "7b9cbdf55ec74fb2b8a01a90c02f8bc0": {
          "model_module": "@jupyter-widgets/base",
          "model_name": "LayoutModel",
          "state": {
            "_view_name": "LayoutView",
            "grid_template_rows": null,
            "right": null,
            "justify_content": null,
            "_view_module": "@jupyter-widgets/base",
            "overflow": null,
            "_model_module_version": "1.2.0",
            "_view_count": null,
            "flex_flow": null,
            "width": null,
            "min_width": null,
            "border": null,
            "align_items": null,
            "bottom": null,
            "_model_module": "@jupyter-widgets/base",
            "top": null,
            "grid_column": null,
            "overflow_y": null,
            "overflow_x": null,
            "grid_auto_flow": null,
            "grid_area": null,
            "grid_template_columns": null,
            "flex": null,
            "_model_name": "LayoutModel",
            "justify_items": null,
            "grid_row": null,
            "max_height": null,
            "align_content": null,
            "visibility": null,
            "align_self": null,
            "height": null,
            "min_height": null,
            "padding": null,
            "grid_auto_rows": null,
            "grid_gap": null,
            "max_width": null,
            "order": null,
            "_view_module_version": "1.2.0",
            "grid_template_areas": null,
            "object_position": null,
            "object_fit": null,
            "grid_auto_columns": null,
            "margin": null,
            "display": null,
            "left": null
          },
          "model_module_version": "1.2.0"
        },
        "b7c2e5805f5543d5a22c4d7676000cbe": {
          "model_module": "@jupyter-widgets/controls",
          "model_name": "HBoxModel",
          "state": {
            "_view_name": "HBoxView",
            "_dom_classes": [],
            "_model_name": "HBoxModel",
            "_view_module": "@jupyter-widgets/controls",
            "_model_module_version": "1.5.0",
            "_view_count": null,
            "_view_module_version": "1.5.0",
            "box_style": "",
            "layout": "IPY_MODEL_257c7f1e09794c23a84799ae220b3c63",
            "_model_module": "@jupyter-widgets/controls",
            "children": [
              "IPY_MODEL_6208d8517dfe45fcb1628a79e0faf47a",
              "IPY_MODEL_75cac4dd225349eda0ffeae6b91ad0ad"
            ]
          },
          "model_module_version": "1.5.0"
        },
        "257c7f1e09794c23a84799ae220b3c63": {
          "model_module": "@jupyter-widgets/base",
          "model_name": "LayoutModel",
          "state": {
            "_view_name": "LayoutView",
            "grid_template_rows": null,
            "right": null,
            "justify_content": null,
            "_view_module": "@jupyter-widgets/base",
            "overflow": null,
            "_model_module_version": "1.2.0",
            "_view_count": null,
            "flex_flow": null,
            "width": null,
            "min_width": null,
            "border": null,
            "align_items": null,
            "bottom": null,
            "_model_module": "@jupyter-widgets/base",
            "top": null,
            "grid_column": null,
            "overflow_y": null,
            "overflow_x": null,
            "grid_auto_flow": null,
            "grid_area": null,
            "grid_template_columns": null,
            "flex": null,
            "_model_name": "LayoutModel",
            "justify_items": null,
            "grid_row": null,
            "max_height": null,
            "align_content": null,
            "visibility": null,
            "align_self": null,
            "height": null,
            "min_height": null,
            "padding": null,
            "grid_auto_rows": null,
            "grid_gap": null,
            "max_width": null,
            "order": null,
            "_view_module_version": "1.2.0",
            "grid_template_areas": null,
            "object_position": null,
            "object_fit": null,
            "grid_auto_columns": null,
            "margin": null,
            "display": null,
            "left": null
          },
          "model_module_version": "1.2.0"
        },
        "6208d8517dfe45fcb1628a79e0faf47a": {
          "model_module": "@jupyter-widgets/controls",
          "model_name": "FloatProgressModel",
          "state": {
            "_view_name": "ProgressView",
            "style": "IPY_MODEL_c198c1a47405435f9c19880003409389",
            "_dom_classes": [],
            "description": "100%",
            "_model_name": "FloatProgressModel",
            "bar_style": "success",
            "max": 108857766,
            "_view_module": "@jupyter-widgets/controls",
            "_model_module_version": "1.5.0",
            "value": 108857766,
            "_view_count": null,
            "_view_module_version": "1.5.0",
            "orientation": "horizontal",
            "min": 0,
            "description_tooltip": null,
            "_model_module": "@jupyter-widgets/controls",
            "layout": "IPY_MODEL_cf413ce266754cb0a5d8698dc48b0aa2"
          },
          "model_module_version": "1.5.0"
        },
        "75cac4dd225349eda0ffeae6b91ad0ad": {
          "model_module": "@jupyter-widgets/controls",
          "model_name": "HTMLModel",
          "state": {
            "_view_name": "HTMLView",
            "style": "IPY_MODEL_e8d05f3f8e704801bc4f5ba3d01f34ba",
            "_dom_classes": [],
            "description": "",
            "_model_name": "HTMLModel",
            "placeholder": "​",
            "_view_module": "@jupyter-widgets/controls",
            "_model_module_version": "1.5.0",
            "value": " 104M/104M [00:20&lt;00:00, 5.19MB/s]",
            "_view_count": null,
            "_view_module_version": "1.5.0",
            "description_tooltip": null,
            "_model_module": "@jupyter-widgets/controls",
            "layout": "IPY_MODEL_b83e1ae9c36a4f2ba7fde48f0a01f8b8"
          },
          "model_module_version": "1.5.0"
        },
        "c198c1a47405435f9c19880003409389": {
          "model_module": "@jupyter-widgets/controls",
          "model_name": "ProgressStyleModel",
          "state": {
            "_view_name": "StyleView",
            "_model_name": "ProgressStyleModel",
            "description_width": "initial",
            "_view_module": "@jupyter-widgets/base",
            "_model_module_version": "1.5.0",
            "_view_count": null,
            "_view_module_version": "1.2.0",
            "bar_color": null,
            "_model_module": "@jupyter-widgets/controls"
          },
          "model_module_version": "1.5.0"
        },
        "cf413ce266754cb0a5d8698dc48b0aa2": {
          "model_module": "@jupyter-widgets/base",
          "model_name": "LayoutModel",
          "state": {
            "_view_name": "LayoutView",
            "grid_template_rows": null,
            "right": null,
            "justify_content": null,
            "_view_module": "@jupyter-widgets/base",
            "overflow": null,
            "_model_module_version": "1.2.0",
            "_view_count": null,
            "flex_flow": null,
            "width": null,
            "min_width": null,
            "border": null,
            "align_items": null,
            "bottom": null,
            "_model_module": "@jupyter-widgets/base",
            "top": null,
            "grid_column": null,
            "overflow_y": null,
            "overflow_x": null,
            "grid_auto_flow": null,
            "grid_area": null,
            "grid_template_columns": null,
            "flex": null,
            "_model_name": "LayoutModel",
            "justify_items": null,
            "grid_row": null,
            "max_height": null,
            "align_content": null,
            "visibility": null,
            "align_self": null,
            "height": null,
            "min_height": null,
            "padding": null,
            "grid_auto_rows": null,
            "grid_gap": null,
            "max_width": null,
            "order": null,
            "_view_module_version": "1.2.0",
            "grid_template_areas": null,
            "object_position": null,
            "object_fit": null,
            "grid_auto_columns": null,
            "margin": null,
            "display": null,
            "left": null
          },
          "model_module_version": "1.2.0"
        },
        "e8d05f3f8e704801bc4f5ba3d01f34ba": {
          "model_module": "@jupyter-widgets/controls",
          "model_name": "DescriptionStyleModel",
          "state": {
            "_view_name": "StyleView",
            "_model_name": "DescriptionStyleModel",
            "description_width": "",
            "_view_module": "@jupyter-widgets/base",
            "_model_module_version": "1.5.0",
            "_view_count": null,
            "_view_module_version": "1.2.0",
            "_model_module": "@jupyter-widgets/controls"
          },
          "model_module_version": "1.5.0"
        },
        "b83e1ae9c36a4f2ba7fde48f0a01f8b8": {
          "model_module": "@jupyter-widgets/base",
          "model_name": "LayoutModel",
          "state": {
            "_view_name": "LayoutView",
            "grid_template_rows": null,
            "right": null,
            "justify_content": null,
            "_view_module": "@jupyter-widgets/base",
            "overflow": null,
            "_model_module_version": "1.2.0",
            "_view_count": null,
            "flex_flow": null,
            "width": null,
            "min_width": null,
            "border": null,
            "align_items": null,
            "bottom": null,
            "_model_module": "@jupyter-widgets/base",
            "top": null,
            "grid_column": null,
            "overflow_y": null,
            "overflow_x": null,
            "grid_auto_flow": null,
            "grid_area": null,
            "grid_template_columns": null,
            "flex": null,
            "_model_name": "LayoutModel",
            "justify_items": null,
            "grid_row": null,
            "max_height": null,
            "align_content": null,
            "visibility": null,
            "align_self": null,
            "height": null,
            "min_height": null,
            "padding": null,
            "grid_auto_rows": null,
            "grid_gap": null,
            "max_width": null,
            "order": null,
            "_view_module_version": "1.2.0",
            "grid_template_areas": null,
            "object_position": null,
            "object_fit": null,
            "grid_auto_columns": null,
            "margin": null,
            "display": null,
            "left": null
          },
          "model_module_version": "1.2.0"
        }
      }
    }
  },
  "cells": [
    {
      "cell_type": "markdown",
      "metadata": {
        "id": "view-in-github",
        "colab_type": "text"
      },
      "source": [
        "<a href=\"https://colab.research.google.com/github/abrarfayez/Machine-Learning/blob/main/Pattern_chestDiagnosis.ipynb\" target=\"_parent\"><img src=\"https://colab.research.google.com/assets/colab-badge.svg\" alt=\"Open In Colab\"/></a>"
      ]
    },
    {
      "cell_type": "code",
      "metadata": {
        "colab": {
          "base_uri": "https://localhost:8080/"
        },
        "id": "8Wcs9NfIiiPF",
        "outputId": "427ce5db-746b-476c-984a-321628aa2a19"
      },
      "source": [
        "  !pip install kaggle"
      ],
      "execution_count": null,
      "outputs": [
        {
          "output_type": "stream",
          "text": [
            "Requirement already satisfied: kaggle in /usr/local/lib/python3.6/dist-packages (1.5.10)\n",
            "Requirement already satisfied: certifi in /usr/local/lib/python3.6/dist-packages (from kaggle) (2020.12.5)\n",
            "Requirement already satisfied: six>=1.10 in /usr/local/lib/python3.6/dist-packages (from kaggle) (1.15.0)\n",
            "Requirement already satisfied: tqdm in /usr/local/lib/python3.6/dist-packages (from kaggle) (4.41.1)\n",
            "Requirement already satisfied: python-slugify in /usr/local/lib/python3.6/dist-packages (from kaggle) (4.0.1)\n",
            "Requirement already satisfied: requests in /usr/local/lib/python3.6/dist-packages (from kaggle) (2.23.0)\n",
            "Requirement already satisfied: urllib3 in /usr/local/lib/python3.6/dist-packages (from kaggle) (1.24.3)\n",
            "Requirement already satisfied: python-dateutil in /usr/local/lib/python3.6/dist-packages (from kaggle) (2.8.1)\n",
            "Requirement already satisfied: text-unidecode>=1.3 in /usr/local/lib/python3.6/dist-packages (from python-slugify->kaggle) (1.3)\n",
            "Requirement already satisfied: chardet<4,>=3.0.2 in /usr/local/lib/python3.6/dist-packages (from requests->kaggle) (3.0.4)\n",
            "Requirement already satisfied: idna<3,>=2.5 in /usr/local/lib/python3.6/dist-packages (from requests->kaggle) (2.10)\n"
          ],
          "name": "stdout"
        }
      ]
    },
    {
      "cell_type": "code",
      "metadata": {
        "colab": {
          "base_uri": "https://localhost:8080/"
        },
        "id": "lpW77K0QUxcB",
        "outputId": "ef066f4c-f32a-4845-bd22-a4c18d9acbf8"
      },
      "source": [
        " pip install split-folders\n"
      ],
      "execution_count": null,
      "outputs": [
        {
          "output_type": "stream",
          "text": [
            "Collecting split-folders\n",
            "  Downloading https://files.pythonhosted.org/packages/b8/5f/3c2b2f7ea5e047c8cdc3bb00ae582c5438fcdbbedcc23b3cc1c2c7aae642/split_folders-0.4.3-py3-none-any.whl\n",
            "Installing collected packages: split-folders\n",
            "Successfully installed split-folders-0.4.3\n"
          ],
          "name": "stdout"
        }
      ]
    },
    {
      "cell_type": "code",
      "metadata": {
        "colab": {
          "base_uri": "https://localhost:8080/"
        },
        "id": "LU-YFmxYUzje",
        "outputId": "3d42fb44-2b2e-4ee2-ca6a-cb7d4d35ebf5"
      },
      "source": [
        "  pip install split-folders tqdm\n"
      ],
      "execution_count": null,
      "outputs": [
        {
          "output_type": "stream",
          "text": [
            "Requirement already satisfied: split-folders in /usr/local/lib/python3.6/dist-packages (0.4.3)\n",
            "Requirement already satisfied: tqdm in /usr/local/lib/python3.6/dist-packages (4.41.1)\n"
          ],
          "name": "stdout"
        }
      ]
    },
    {
      "cell_type": "code",
      "metadata": {
        "id": "nOwjFx8u2nXL"
      },
      "source": [
        "# !pip install texttable\n",
        "# !pip install pytorch_lightning"
      ],
      "execution_count": null,
      "outputs": []
    },
    {
      "cell_type": "code",
      "metadata": {
        "colab": {
          "resources": {
            "http://localhost:8080/nbextensions/google.colab/files.js": {
              "data": "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",
              "ok": true,
              "headers": [
                [
                  "content-type",
                  "application/javascript"
                ]
              ],
              "status": 200,
              "status_text": ""
            }
          },
          "base_uri": "https://localhost:8080/",
          "height": 91
        },
        "id": "mvSSlRYFcF68",
        "outputId": "f1f5a0d3-9105-4457-d34b-35a3267c9061"
      },
      "source": [
        "\n",
        "from google.colab import files\n",
        "files.upload()"
      ],
      "execution_count": null,
      "outputs": [
        {
          "output_type": "display_data",
          "data": {
            "text/html": [
              "\n",
              "     <input type=\"file\" id=\"files-04b8eeb0-2267-4bc4-97a2-98b1e70073ae\" name=\"files[]\" multiple disabled\n",
              "        style=\"border:none\" />\n",
              "     <output id=\"result-04b8eeb0-2267-4bc4-97a2-98b1e70073ae\">\n",
              "      Upload widget is only available when the cell has been executed in the\n",
              "      current browser session. Please rerun this cell to enable.\n",
              "      </output>\n",
              "      <script src=\"/nbextensions/google.colab/files.js\"></script> "
            ],
            "text/plain": [
              "<IPython.core.display.HTML object>"
            ]
          },
          "metadata": {
            "tags": []
          }
        },
        {
          "output_type": "stream",
          "text": [
            "Saving kaggle.json to kaggle.json\n"
          ],
          "name": "stdout"
        },
        {
          "output_type": "execute_result",
          "data": {
            "text/plain": [
              "{'kaggle.json': b'{\"username\":\"abrarfayez\",\"key\":\"d57b7e21b1119e9f352097eadfbdc526\"}'}"
            ]
          },
          "metadata": {
            "tags": []
          },
          "execution_count": 4
        }
      ]
    },
    {
      "cell_type": "code",
      "metadata": {
        "id": "KPx3bpxHcSW8"
      },
      "source": [
        "!mkdir -p ~/.kaggle\n",
        "!cp kaggle.json ~/.kaggle/\n",
        "!chmod 600 ~/.kaggle/kaggle.json"
      ],
      "execution_count": null,
      "outputs": []
    },
    {
      "cell_type": "code",
      "metadata": {
        "colab": {
          "base_uri": "https://localhost:8080/"
        },
        "id": "EFR6B6FueZDJ",
        "outputId": "5e0ce4d9-cac9-4013-cd8b-383a73369b38"
      },
      "source": [
        "!kaggle datasets download -d tawsifurrahman/covid19-radiography-database"
      ],
      "execution_count": null,
      "outputs": [
        {
          "output_type": "stream",
          "text": [
            "Downloading covid19-radiography-database.zip to /content\n",
            " 99% 1.13G/1.14G [00:11<00:00, 159MB/s]\n",
            "100% 1.14G/1.14G [00:11<00:00, 104MB/s]\n"
          ],
          "name": "stdout"
        }
      ]
    },
    {
      "cell_type": "code",
      "metadata": {
        "colab": {
          "base_uri": "https://localhost:8080/"
        },
        "id": "zbacOWTNelnh",
        "outputId": "bebcd6aa-85e3-4c53-92ed-688468da9c53"
      },
      "source": [
        "from zipfile import ZipFile\n",
        "filename = 'covid19-radiography-database.zip'\n",
        "with ZipFile(filename, 'r') as zip:\n",
        "  zip.extractall()\n",
        "  print('Done')"
      ],
      "execution_count": null,
      "outputs": [
        {
          "output_type": "stream",
          "text": [
            "Done\n"
          ],
          "name": "stdout"
        }
      ]
    },
    {
      "cell_type": "code",
      "metadata": {
        "id": "SVaP4ExFhgi_"
      },
      "source": [
        "import numpy as np\n",
        "import splitfolders \n",
        "import random\n",
        "import cv2\n",
        "import os\n",
        "import matplotlib.pyplot as plt\n",
        "from PIL import Image\n",
        "import torch\n",
        "import torchvision\n",
        "import torch.nn as nn\n",
        "import torch.optim as optim\n",
        "import torch.nn.functional as F\n",
        "#from sklearn import metrics\n",
        "from sklearn.metrics import  f1_score\n",
        "import torch.utils.data as data\n",
        "from torchvision import transforms as transforms\n",
        "from torchvision import transforms, utils, datasets,models\n",
        "from torch.utils.data import Dataset, DataLoader, random_split, SubsetRandomSampler, WeightedRandomSampler\n",
        "import pandas as pd\n",
        "# from texttable import Texttable\n",
        "# from pytorch_lightning import metrics"
      ],
      "execution_count": null,
      "outputs": []
    },
    {
      "cell_type": "markdown",
      "metadata": {
        "id": "72-o63Eoiz3u"
      },
      "source": [
        "load the dataset from the directory\n"
      ]
    },
    {
      "cell_type": "code",
      "metadata": {
        "id": "lYOachXhiqfd"
      },
      "source": [
        "PATH = '/content/COVID-19 Radiography Database'\n",
        "CLASSES = ['COVID','NORMAL' ,'Viral Pneumonia']"
      ],
      "execution_count": null,
      "outputs": []
    },
    {
      "cell_type": "markdown",
      "metadata": {
        "id": "FXTCYw-sjGQW"
      },
      "source": [
        "split the paths of dataset into train,test and val:"
      ]
    },
    {
      "cell_type": "code",
      "metadata": {
        "colab": {
          "base_uri": "https://localhost:8080/"
        },
        "id": "Jhww1QeDjKpa",
        "outputId": "bc6f5a11-12b3-4a0d-e3c7-3344948e3bff"
      },
      "source": [
        "splitfolders.ratio(PATH, output=\"/content/output\", seed=1337, ratio=(.6, .2,.2), group_prefix=None)"
      ],
      "execution_count": null,
      "outputs": [
        {
          "output_type": "stream",
          "text": [
            "Copying files: 3886 files [00:22, 173.78 files/s]\n"
          ],
          "name": "stderr"
        }
      ]
    },
    {
      "cell_type": "markdown",
      "metadata": {
        "id": "H09F3aYg3159"
      },
      "source": [
        "**Data transformation:**"
      ]
    },
    {
      "cell_type": "code",
      "metadata": {
        "id": "KyCKvD9K37Zr"
      },
      "source": [
        "TRANSFORM_IMG = transforms.Compose([ #resize the images to be all the same shape and convert it to tensors\n",
        "    transforms.Resize((128,128)),\n",
        "    transforms.ToTensor(),\n",
        "])\n",
        "  "
      ],
      "execution_count": null,
      "outputs": []
    },
    {
      "cell_type": "markdown",
      "metadata": {
        "id": "CQGqFk3gbBKZ"
      },
      "source": [
        "**Data Loaders**"
      ]
    },
    {
      "cell_type": "code",
      "metadata": {
        "id": "Yb-0uMGbbBdz"
      },
      "source": [
        "TRAIN_DATA_PATH='/content/output/train'\n",
        "VAL_DATA_PATH='/content/output/val'\n",
        "TEST_DATA_PATH='/content/output/test'\n",
        "\n",
        "train_data = torchvision.datasets.ImageFolder(root=TRAIN_DATA_PATH, transform=TRANSFORM_IMG)\n",
        "train_loader = torch.utils.data.DataLoader(train_data, batch_size=16, shuffle=True)\n",
        "\n",
        "\n",
        "val_data = torchvision.datasets.ImageFolder(root=VAL_DATA_PATH, transform=TRANSFORM_IMG)\n",
        "val_loader = torch.utils.data.DataLoader(val_data, batch_size =16, shuffle=True)\n",
        "\n",
        "\n",
        "test_data = torchvision.datasets.ImageFolder(root=TEST_DATA_PATH, transform=TRANSFORM_IMG)\n",
        "test_loader = torch.utils.data.DataLoader(test_data, batch_size =16, shuffle=False)\n",
        "\n"
      ],
      "execution_count": null,
      "outputs": []
    },
    {
      "cell_type": "markdown",
      "metadata": {
        "id": "33Fal2d304VX"
      },
      "source": [
        "**Table of comparison**"
      ]
    },
    {
      "cell_type": "code",
      "metadata": {
        "id": "jnQDQKSW_3dI"
      },
      "source": [
        "# table=Texttable()\n",
        "# table.add_row(['Model type','Testing Accuracy','TESTING F1SCORE'])\n",
        "# print(table.draw())"
      ],
      "execution_count": null,
      "outputs": []
    },
    {
      "cell_type": "markdown",
      "metadata": {
        "id": "-PwzCgPbYK3O"
      },
      "source": [
        "**FC Models:**"
      ]
    },
    {
      "cell_type": "code",
      "metadata": {
        "id": "ItZTp23nYN1g"
      },
      "source": [
        "class fc_few(nn.Module):\n",
        "    \n",
        "    def __init__(self):\n",
        "        super(fc_few, self).__init__()\n",
        "        self.l1 = nn.Linear(128*128*3,32)\n",
        "        self.relu = nn.ReLU()\n",
        "        self.l3 = nn.Linear(32, 3)\n",
        "        \n",
        "    def forward(self, x):\n",
        "        x = x.view(x.size(0), -1)  # flatten the image --> [batches,x*w*h]\n",
        "        x = self.l1(x)\n",
        "        x = self.relu(x)\n",
        "        x = self.l3(x)\n",
        "        return F.log_softmax(x)"
      ],
      "execution_count": null,
      "outputs": []
    },
    {
      "cell_type": "code",
      "metadata": {
        "id": "3qv9mQHhznUn"
      },
      "source": [
        "class fc_many(nn.Module):\n",
        "    \n",
        "    def __init__(self):\n",
        "        super(fc_many, self).__init__()\n",
        "        self.l1 = nn.Linear(128*128*3,1024)\n",
        "        self.relu = nn.ReLU()\n",
        "        self.l2 = nn.Linear(1024, 512)\n",
        "        self.l3 = nn.Linear(512, 240)\n",
        "        self.l4 = nn.Linear(240, 120)\n",
        "        self.l5 = nn.Linear(120, 64)\n",
        "        self.l6 = nn.Linear(64, 32)\n",
        "        self.dropout1= nn.Dropout(0.25)\n",
        "        self.l7 = nn.Linear(32, 10)\n",
        "        self.dropout2= nn.Dropout(0.5)\n",
        "        self.l8 = nn.Linear(10, 3)\n",
        "        \n",
        "    def forward(self, x):\n",
        "        x = x.view(x.size(0), -1)  # flatten the image --> [batches,x*w*h]\n",
        "        x = self.l1(x)\n",
        "        x = self.relu(x)\n",
        "        x = self.l2(x)\n",
        "        x = self.relu(x)\n",
        "        x = self.l3(x)\n",
        "        x = self.relu(x)\n",
        "        x = self.l4(x)\n",
        "        x = self.relu(x)\n",
        "        x = self.l5(x)\n",
        "        x = self.relu(x)\n",
        "        x = self.l6(x)\n",
        "        x = self.relu(x)\n",
        "        x = self.dropout1(x)\n",
        "        x = self.l7(x)\n",
        "        x = self.relu(x)\n",
        "        x = self.dropout2(x)\n",
        "        x = self.l8(x)\n",
        "        return F.log_softmax(x)"
      ],
      "execution_count": null,
      "outputs": []
    },
    {
      "cell_type": "markdown",
      "metadata": {
        "id": "GrXmPv0EYG7T"
      },
      "source": [
        "**CNN Models:**"
      ]
    },
    {
      "cell_type": "code",
      "metadata": {
        "id": "ZiiBPdHhfcYt"
      },
      "source": [
        "class cnn2layers(nn.Module):\n",
        "  def __init__(self):\n",
        "        super(cnn2layers, self).__init__()\n",
        "        self.conlayer1 = nn.Sequential(\n",
        "            nn.Conv2d(3, 64, kernel_size=3, padding=1),\n",
        "            nn.ReLU())\n",
        "        self.conlayer2 = nn.Sequential(\n",
        "            nn.Conv2d(64, 64, kernel_size=3, stride=1, padding=1),\n",
        "            nn.ReLU(),\n",
        "            nn.MaxPool2d(2, 2))\n",
        "        self.fc = nn.Sequential(\n",
        "            nn.Flatten(), \n",
        "            nn.Linear(64*64*64, 32),\n",
        "            nn.ReLU(),\n",
        "            nn.Linear(32,3))\n",
        "  def forward(self, x):\n",
        "        out = self.conlayer1(x)\n",
        "        out = self.conlayer2(out)\n",
        "        # out = out.view(out.size(0),-1)\n",
        "        out = self.fc(out)\n",
        "        return F.log_softmax(out)"
      ],
      "execution_count": null,
      "outputs": []
    },
    {
      "cell_type": "code",
      "metadata": {
        "id": "OPtz6uj7jkFa"
      },
      "source": [
        "# use 6 conv layers to extract featur\n",
        "class Cnn_few(nn.Module):\n",
        "    def __init__(self):\n",
        "        super(Cnn_few, self).__init__()\n",
        "        self.conlayer1 = nn.Sequential(\n",
        "            nn.Conv2d(3, 32, kernel_size=3, padding=1),\n",
        "            nn.ReLU())\n",
        "        \n",
        "        self.conlayer2 = nn.Sequential(\n",
        "            nn.Conv2d(32, 64, kernel_size=3, stride=1, padding=1),\n",
        "            nn.ReLU(),\n",
        "            nn.MaxPool2d(2, 2))\n",
        "        \n",
        "        self.conlayer3 = nn.Sequential(\n",
        "            nn.Conv2d(64, 128, kernel_size=3, stride=1, padding=1),\n",
        "            nn.ReLU())\n",
        "        \n",
        "        self.conlayer4 = nn.Sequential(\n",
        "            nn.Conv2d(128, 128, kernel_size=3, stride=1, padding=1),\n",
        "            nn.ReLU(),\n",
        "            nn.MaxPool2d(2, 2))\n",
        "\n",
        "        self.conlayer5 = nn.Sequential(\n",
        "            nn.Conv2d(128, 256, kernel_size=3, stride=1, padding=1),\n",
        "            nn.ReLU())\n",
        "        \n",
        "        self.conlayer6 = nn.Sequential(\n",
        "            nn.Conv2d(256, 256, kernel_size=3, stride=1, padding=1),\n",
        "            nn.ReLU(),\n",
        "            nn.MaxPool2d(2, 2))\n",
        "\n",
        "        self.fc = nn.Sequential(\n",
        "            nn.Flatten(), \n",
        "            nn.Linear(256*16*16, 32),\n",
        "            nn.ReLU(),\n",
        "            nn.Linear(32,3))\n",
        "\n",
        "            \n",
        "        \n",
        "    def forward(self, x):\n",
        "        out = self.conlayer1(x)\n",
        "        out = self.conlayer2(out)\n",
        "        out = self.conlayer3(out)\n",
        "        out = self.conlayer4(out)\n",
        "        out = self.conlayer5(out)\n",
        "        out = self.conlayer6(out)\n",
        "        # out = out.view(out.size(0),-1)  # flatten\n",
        "        out = self.fc(out)\n",
        "        return F.log_softmax(out)"
      ],
      "execution_count": null,
      "outputs": []
    },
    {
      "cell_type": "markdown",
      "metadata": {
        "id": "MKabqRvMg8Zo"
      },
      "source": [
        "**CNN many**"
      ]
    },
    {
      "cell_type": "code",
      "metadata": {
        "id": "L8ZnNhlFguoD"
      },
      "source": [
        "class Cnn_many(nn.Module):\n",
        "  def __init__(self):\n",
        "        super(Cnn_many, self).__init__()\n",
        "        self.conlayer1 = nn.Sequential(\n",
        "            nn.Conv2d(3, 64, kernel_size=3, padding=1, bias=False),\n",
        "            nn.ReLU())\n",
        "        \n",
        "        self.conlayer2 = nn.Sequential(\n",
        "            nn.Conv2d(64, 64, kernel_size=3, stride=1, padding=1, bias=False),\n",
        "            nn.ReLU(),\n",
        "            nn.MaxPool2d(2, 2))\n",
        "        \n",
        "        self.conlayer3 = nn.Sequential(\n",
        "            nn.Conv2d(64, 128, kernel_size=3, stride=1, padding=1, bias=False),\n",
        "            nn.ReLU())\n",
        "        \n",
        "        self.conlayer4 = nn.Sequential(\n",
        "            nn.Conv2d(128, 128, kernel_size=3, stride=1, padding=1, bias=False),\n",
        "            nn.ReLU(),\n",
        "            nn.MaxPool2d(2, 2))\n",
        "\n",
        "        self.conlayer5 = nn.Sequential(\n",
        "            nn.Conv2d(128, 256, kernel_size=3, stride=1, padding=1, bias=False),\n",
        "            nn.BatchNorm2d(256, eps=1e-05, momentum=0.1, affine=True, track_running_stats=True),\n",
        "            nn.ReLU())\n",
        "        \n",
        "        self.conlayer6 = nn.Sequential(\n",
        "            nn.Conv2d(256, 256, kernel_size=3, stride=1, padding=1, bias=False),\n",
        "            nn.BatchNorm2d(256, eps=1e-05, momentum=0.1, affine=True, track_running_stats=True),\n",
        "            nn.ReLU())\n",
        "        \n",
        "        self.conlayer7 = nn.Sequential(\n",
        "            nn.Conv2d(256, 256, kernel_size=3, stride=1, padding=1, bias=False),\n",
        "            nn.BatchNorm2d(256, eps=1e-05, momentum=0.1, affine=True, track_running_stats=True),\n",
        "            nn.ReLU(),\n",
        "            nn.MaxPool2d(2, 2))\n",
        "        \n",
        "        self.conlayer8 = nn.Sequential(\n",
        "            nn.Conv2d(256, 512, kernel_size=3, stride=1, padding=1, bias=False),\n",
        "            nn.BatchNorm2d(512, eps=1e-05, momentum=0.1, affine=True, track_running_stats=True),\n",
        "            nn.ReLU())\n",
        "        \n",
        "        self.conlayer9 = nn.Sequential(\n",
        "            nn.Conv2d(512, 512, kernel_size=3, stride=1, padding=1, bias=False),\n",
        "            nn.BatchNorm2d(512, eps=1e-05, momentum=0.1, affine=True, track_running_stats=True),\n",
        "            nn.ReLU())\n",
        "        \n",
        "        self.conlayer10 = nn.Sequential(\n",
        "            nn.Conv2d(512, 512, kernel_size=3, stride=1, padding=1, bias=False),\n",
        "            nn.BatchNorm2d(512, eps=1e-05, momentum=0.1, affine=True, track_running_stats=True),\n",
        "            nn.ReLU(),\n",
        "            nn.MaxPool2d(2, 2))\n",
        "\n",
        "        self.fc = nn.Sequential(\n",
        "            nn.Flatten(), \n",
        "            nn.Linear(512*8*8, 1024),\n",
        "            nn.ReLU(),\n",
        "            nn.Dropout(0.7),\n",
        "            nn.Linear(1024, 512),\n",
        "            nn.ReLU(),\n",
        "            nn.Dropout(0.5),\n",
        "            nn.Linear(512, 3, bias=True))\n",
        "\n",
        "            \n",
        "        \n",
        "  def forward(self, x):\n",
        "        out = self.conlayer1(x)\n",
        "        out = self.conlayer2(out)\n",
        "        out = self.conlayer3(out)\n",
        "        out = self.conlayer4(out)\n",
        "        out = self.conlayer5(out)\n",
        "        out = self.conlayer6(out)\n",
        "        out = self.conlayer7(out)\n",
        "        out = self.conlayer8(out)\n",
        "        out = self.conlayer9(out)\n",
        "        out = self.conlayer10(out)\n",
        "        #print(out.shape)\n",
        "        # out = out.view(out.size(0),-1)\n",
        "        out = self.fc(out)\n",
        "        return F.log_softmax(out)"
      ],
      "execution_count": null,
      "outputs": []
    },
    {
      "cell_type": "code",
      "metadata": {
        "id": "04mzcFaJwVVT"
      },
      "source": [
        "def F1_Score_Calcu(outputs, labels):\n",
        "  op = outputs.cpu()\n",
        "  la = labels.cpu()\n",
        "  _, preds = torch.max(op, dim=1)\n",
        "  return torch.tensor(f1_score(la,preds,average=\"weighted\"))"
      ],
      "execution_count": null,
      "outputs": []
    },
    {
      "cell_type": "code",
      "metadata": {
        "id": "rgj2BQgYSBX-"
      },
      "source": [
        "def accuracy(outputs, labels):\n",
        "    _, preds = torch.max(outputs, dim=1)\n",
        "    return torch.tensor(torch.sum(preds == labels).item() / len(preds))"
      ],
      "execution_count": null,
      "outputs": []
    },
    {
      "cell_type": "code",
      "metadata": {
        "id": "eGIxh-W1qPiz"
      },
      "source": [
        "def plot_losses(params):\n",
        "  #plot loss vs no of epochs after finishing all epochs\n",
        "  train_losses = [param.get('train_loss') for param in params]\n",
        "  val_loss = [param['val_loss'] for param in params]\n",
        "  fig = plt.figure\n",
        "  plt.xlabel('Epochs_No')\n",
        "  plt.ylabel('Losses')\n",
        "\n",
        "  plt.plot(train_losses, '-bx',val_loss, '-rx')\n",
        "\n",
        "  plt.legend(['Training', 'Validation'])\n",
        " \n",
        "  # plt.plot(train_losses,label=' Training loss vs epoch')\n",
        "  plt.title('Losses vs. No. of epochs')\n",
        "  plt.show()"
      ],
      "execution_count": null,
      "outputs": []
    },
    {
      "cell_type": "code",
      "metadata": {
        "id": "gpNOsjnwrkXv"
      },
      "source": [
        "def plot_accu(params):\n",
        "  train_acc = [param.get('train_accuracy') for param in params]\n",
        "  val_acc = [param['val_acc'] for param in params]\n",
        "  fig = plt.figure \n",
        "  plt.plot(val_acc,'-rx',train_acc, '-bx')\n",
        "  plt.legend(['Validation','Training'])\n",
        "  plt.xlabel('epoch')\n",
        "  plt.ylabel('accuracy')\n",
        "  plt.title('Accuracy vs. No. of epochs')\n",
        "  plt.show()"
      ],
      "execution_count": null,
      "outputs": []
    },
    {
      "cell_type": "code",
      "metadata": {
        "id": "ABUGOTJVW3mW"
      },
      "source": [
        "lr=30e-4 # learning rate\n",
        "Epochs=12\n",
        "device = torch.device(\"cuda:0\" if torch.cuda.is_available() else \"cpu\")\n",
        "grad_clip = 0.1\n",
        "# device = torch.device(\"cuda\")"
      ],
      "execution_count": null,
      "outputs": []
    },
    {
      "cell_type": "markdown",
      "metadata": {
        "id": "eaP8qjOFWEZp"
      },
      "source": [
        "\n",
        "**Evaluate the model **"
      ]
    },
    {
      "cell_type": "code",
      "metadata": {
        "id": "gyeLJsnZWrl1"
      },
      "source": [
        "def evaluate(model, loader):\n",
        "  model.eval()  # Change model to 'eval' mode (BN uses moving mean/var)\n",
        "  out = {}\n",
        "  val_loss = 0\n",
        "  val_acc = []\n",
        "  val_f1 = []\n",
        "  crit= nn.CrossEntropyLoss()\n",
        "  for images, labels in loader:\n",
        "    # print('in eval')\n",
        "    images, labels = images.to(device), labels.to(device)\n",
        "    outputs = model(images)\n",
        "    loss = crit(outputs,labels)\n",
        "    val_loss+=loss.item()\n",
        "    # _, predicted = torch.max(outputs.data, 1)\n",
        "    # total += labels.size(0)\n",
        "    # correct += (predicted == labels).sum()\n",
        "    val_acc.append(accuracy(outputs, labels))\n",
        "    val_f1.append(F1_Score_Calcu(outputs, labels)) \n",
        "  out['val_loss'] = val_loss/len(loader)\n",
        "  out['val_acc'] = (torch.stack(val_acc).mean().item())*100\n",
        "  out['val_f1_score'] = torch.stack(val_f1).mean().item()\n",
        "  return out"
      ],
      "execution_count": null,
      "outputs": []
    },
    {
      "cell_type": "code",
      "metadata": {
        "id": "3q-51cs4ahf5"
      },
      "source": [
        "def print_eval(eval):\n",
        "      print('Test loss: {:.6f}, Test Accuracy: {:.6f}, Test f1_score:{:.6f}'.format(\n",
        "      eval['val_loss'],eval['val_acc'], eval['val_f1_score']))"
      ],
      "execution_count": null,
      "outputs": []
    },
    {
      "cell_type": "markdown",
      "metadata": {
        "id": "-aSiYHtqnqvB"
      },
      "source": [
        "**Train the model:**"
      ]
    },
    {
      "cell_type": "code",
      "metadata": {
        "id": "PavoUHc8nrHI"
      },
      "source": [
        "def training_loop(model, Epochs): # fn to train the models taking object model as a parameter\n",
        "  \n",
        "  params = []  \n",
        "  train_losses = []\n",
        "  train_accu = []\n",
        "  f1_values = []\n",
        "  criterion = nn.CrossEntropyLoss()\n",
        "  torch.cuda.empty_cache()\n",
        "  optimizer = torch.optim.Adam(model.parameters(), lr, weight_decay=1e-4)\n",
        "  # Set up one-cycle learning rate scheduler\n",
        "  sched = torch.optim.lr_scheduler.OneCycleLR(optimizer,lr, epochs=Epochs, \n",
        "                                                steps_per_epoch=len(train_loader))\n",
        "  \n",
        "\n",
        "  for epoch in range(Epochs):\n",
        "    for i,(images, labels) in enumerate(train_loader):\n",
        "        # Forward + Backward + Optimize\n",
        "            images, labels = images.to(device), labels.to(device)\n",
        "            optimizer.zero_grad()\n",
        "            outputs = model(images)\n",
        "            loss = criterion(outputs,labels)\n",
        "            train_losses.append(loss) # append loss\n",
        "            loss.backward()\n",
        "            f1_values.append(F1_Score_Calcu(outputs, labels)) # append f1 score \n",
        "            # _, predicted = torch.max(outputs.data, 1)\n",
        "            # total += labels.size(0)\n",
        "            # correct += (predicted == labels).sum()\n",
        "            train_accu.append(accuracy(outputs, labels))  # append train accuracy\n",
        "\n",
        "            # if grad_clip: \n",
        "            #     nn.utils.clip_grad_value_(model.parameters(), grad_clip)\n",
        "            \n",
        " \n",
        "            optimizer.step()\n",
        "            sched.step()\n",
        "\n",
        "    #print the  total training loss , acc% and f1score after each epoch\n",
        "    # print(\"Epoch [{}/{}], Training Loss: {:.4f}, Accuracy:{:.6f}, f1score: {:.4f}\".format(\n",
        "    #     epoch+1,Epochs,torch.stack(train_losses).mean().item(),(torch.stack(train_accu).mean().item())*100,  torch.stack(f1_values).mean().item()))\n",
        "   #validate the model and print its accuracy\n",
        "    eval = evaluate(model,val_loader)\n",
        "    eval['train_loss'] = torch.stack(train_losses).mean().item()  # combine all losses and get mean\n",
        "    eval['train_accuracy'] = (torch.stack(train_accu).mean().item())*100\n",
        "    eval['train_f1'] = torch.stack(f1_values).mean().item()\n",
        "    print(\"Epoch [{}/{}],Training Loss: {:.4f},Accuracy:{:.6f},f1score: {:.4f}\".format(\n",
        "        epoch+1,Epochs,eval['train_loss'],eval['train_accuracy'],eval['train_f1']))\n",
        "    print_eval(eval)\n",
        "    params.append(eval)\n",
        "    print('\\n')\n",
        "\n",
        "  plot_losses(params)\n",
        "  plot_accu(params)"
      ],
      "execution_count": null,
      "outputs": []
    },
    {
      "cell_type": "markdown",
      "metadata": {
        "id": "pzHgxuXNoIQN"
      },
      "source": [
        "\n",
        "Save the Trained Model"
      ]
    },
    {
      "cell_type": "markdown",
      "metadata": {
        "id": "gHkHKMJTxVEZ"
      },
      "source": [
        "**Model 1:  FC 2 layers**"
      ]
    },
    {
      "cell_type": "code",
      "metadata": {
        "colab": {
          "base_uri": "https://localhost:8080/",
          "height": 1000
        },
        "id": "8mrme07YxUd5",
        "outputId": "b0f0321c-012a-426b-9643-2ac2353134e2"
      },
      "source": [
        "FC_few = fc_few()\n",
        "FC_few.to(device)\n",
        "training_loop(FC_few, 15)"
      ],
      "execution_count": null,
      "outputs": [
        {
          "output_type": "stream",
          "text": [
            "/usr/local/lib/python3.6/dist-packages/ipykernel_launcher.py:14: UserWarning: Implicit dimension choice for log_softmax has been deprecated. Change the call to include dim=X as an argument.\n",
            "  \n"
          ],
          "name": "stderr"
        },
        {
          "output_type": "stream",
          "text": [
            "Epoch [1/15],Training Loss: 0.5311,Accuracy:76.623929,f1score: 0.7453\n",
            "Test loss: 0.345680, Test Accuracy: 87.051284, Test f1_score:0.868665\n",
            "\n",
            "\n",
            "Epoch [2/15],Training Loss: 0.5679,Accuracy:77.927345,f1score: 0.7600\n",
            "Test loss: 0.395441, Test Accuracy: 84.615386, Test f1_score:0.839846\n",
            "\n",
            "\n",
            "Epoch [3/15],Training Loss: 0.5039,Accuracy:80.455840,f1score: 0.7896\n",
            "Test loss: 0.265775, Test Accuracy: 90.256411, Test f1_score:0.901499\n",
            "\n",
            "\n",
            "Epoch [4/15],Training Loss: 0.4623,Accuracy:82.232904,f1score: 0.8109\n",
            "Test loss: 0.228398, Test Accuracy: 91.739929, Test f1_score:0.916221\n",
            "\n",
            "\n",
            "Epoch [5/15],Training Loss: 0.4340,Accuracy:83.521360,f1score: 0.8256\n",
            "Test loss: 0.945015, Test Accuracy: 68.479854, Test f1_score:0.627270\n",
            "\n",
            "\n",
            "Epoch [6/15],Training Loss: 0.4216,Accuracy:84.002841,f1score: 0.8301\n",
            "Test loss: 0.234829, Test Accuracy: 91.282046, Test f1_score:0.913355\n",
            "\n",
            "\n",
            "Epoch [7/15],Training Loss: 0.3974,Accuracy:84.987789,f1score: 0.8410\n",
            "Test loss: 0.225603, Test Accuracy: 91.538465, Test f1_score:0.913268\n",
            "\n",
            "\n",
            "Epoch [8/15],Training Loss: 0.3774,Accuracy:85.721153,f1score: 0.8492\n",
            "Test loss: 0.235354, Test Accuracy: 90.714282, Test f1_score:0.909180\n",
            "\n",
            "\n",
            "Epoch [9/15],Training Loss: 0.3647,Accuracy:86.253560,f1score: 0.8552\n",
            "Test loss: 0.322376, Test Accuracy: 88.021976, Test f1_score:0.880462\n",
            "\n",
            "\n",
            "Epoch [10/15],Training Loss: 0.3507,Accuracy:86.829060,f1score: 0.8617\n",
            "Test loss: 0.280124, Test Accuracy: 89.945042, Test f1_score:0.899206\n",
            "\n",
            "\n",
            "Epoch [11/15],Training Loss: 0.3370,Accuracy:87.331009,f1score: 0.8673\n",
            "Test loss: 0.199120, Test Accuracy: 92.435896, Test f1_score:0.923181\n",
            "\n",
            "\n",
            "Epoch [12/15],Training Loss: 0.3246,Accuracy:87.831187,f1score: 0.8728\n",
            "Test loss: 0.215676, Test Accuracy: 91.538465, Test f1_score:0.914861\n",
            "\n",
            "\n",
            "Epoch [13/15],Training Loss: 0.3130,Accuracy:88.257724,f1score: 0.8774\n",
            "Test loss: 0.198678, Test Accuracy: 93.095243, Test f1_score:0.929987\n",
            "\n",
            "\n",
            "Epoch [14/15],Training Loss: 0.3013,Accuracy:88.720995,f1score: 0.8824\n",
            "Test loss: 0.192388, Test Accuracy: 92.692304, Test f1_score:0.927639\n",
            "\n",
            "\n",
            "Epoch [15/15],Training Loss: 0.2907,Accuracy:89.153838,f1score: 0.8870\n",
            "Test loss: 0.195815, Test Accuracy: 92.655683, Test f1_score:0.927293\n",
            "\n",
            "\n"
          ],
          "name": "stdout"
        },
        {
          "output_type": "display_data",
          "data": {
            "image/png": "[encoded data removed]",
            "text/plain": [
              "<Figure size 432x288 with 1 Axes>"
            ]
          },
          "metadata": {
            "tags": []
          }
        },
        {
          "output_type": "display_data",
          "data": {
            "image/png": "[encoded data removed]",
            "text/plain": [
              "<Figure size 432x288 with 1 Axes>"
            ]
          },
          "metadata": {
            "tags": []
          }
        }
      ]
    },
    {
      "cell_type": "code",
      "metadata": {
        "colab": {
          "base_uri": "https://localhost:8080/"
        },
        "id": "XPOQV6BzyAAl",
        "outputId": "68b9904d-bb19-462d-a116-7099faea9447"
      },
      "source": [
        "print_eval(evaluate(FC_few, test_loader))"
      ],
      "execution_count": null,
      "outputs": [
        {
          "output_type": "stream",
          "text": [
            "/usr/local/lib/python3.6/dist-packages/ipykernel_launcher.py:14: UserWarning: Implicit dimension choice for log_softmax has been deprecated. Change the call to include dim=X as an argument.\n",
            "  \n"
          ],
          "name": "stderr"
        },
        {
          "output_type": "stream",
          "text": [
            "Test loss: 0.226630, Test Accuracy: 92.019224, Test f1_score:0.955273\n"
          ],
          "name": "stdout"
        }
      ]
    },
    {
      "cell_type": "markdown",
      "metadata": {
        "id": "2d49fGPOy4Ot"
      },
      "source": [
        "**Model 2:  FC --> 8 layers**"
      ]
    },
    {
      "cell_type": "code",
      "metadata": {
        "colab": {
          "base_uri": "https://localhost:8080/",
          "height": 1000
        },
        "id": "5zOoDBMwy71U",
        "outputId": "52e85cc2-314c-4df0-bd85-d3909c1955da"
      },
      "source": [
        "FC_many = fc_many()\n",
        "FC_many.to(device)\n",
        "training_loop(FC_many,15)"
      ],
      "execution_count": null,
      "outputs": [
        {
          "output_type": "stream",
          "text": [
            "/usr/local/lib/python3.6/dist-packages/ipykernel_launcher.py:36: UserWarning: Implicit dimension choice for log_softmax has been deprecated. Change the call to include dim=X as an argument.\n"
          ],
          "name": "stderr"
        },
        {
          "output_type": "stream",
          "text": [
            "Epoch [1/15],Training Loss: 1.0141,Accuracy:36.495727,f1score: 0.2963\n",
            "Test loss: 0.873853, Test Accuracy: 67.307693, Test f1_score:0.658086\n",
            "\n",
            "\n",
            "Epoch [2/15],Training Loss: 0.8326,Accuracy:50.192308,f1score: 0.4375\n",
            "Test loss: 0.775596, Test Accuracy: 54.523808, Test f1_score:0.460724\n",
            "\n",
            "\n",
            "Epoch [3/15],Training Loss: 0.7799,Accuracy:53.760684,f1score: 0.4716\n",
            "Test loss: 0.599223, Test Accuracy: 60.769230, Test f1_score:0.516689\n",
            "\n",
            "\n",
            "Epoch [4/15],Training Loss: 0.7560,Accuracy:55.576926,f1score: 0.4881\n",
            "Test loss: 0.770617, Test Accuracy: 56.501836, Test f1_score:0.476000\n",
            "\n",
            "\n",
            "Epoch [5/15],Training Loss: 0.7422,Accuracy:56.341887,f1score: 0.4942\n",
            "Test loss: 0.706037, Test Accuracy: 59.890109, Test f1_score:0.508134\n",
            "\n",
            "\n",
            "Epoch [6/15],Training Loss: 0.7267,Accuracy:57.215101,f1score: 0.5019\n",
            "Test loss: 0.589986, Test Accuracy: 67.216122, Test f1_score:0.617747\n",
            "\n",
            "\n",
            "Epoch [7/15],Training Loss: 0.7194,Accuracy:57.808304,f1score: 0.5070\n",
            "Test loss: 0.693469, Test Accuracy: 58.260071, Test f1_score:0.590022\n",
            "\n",
            "\n",
            "Epoch [8/15],Training Loss: 0.7098,Accuracy:58.584398,f1score: 0.5150\n",
            "Test loss: 0.665275, Test Accuracy: 62.967032, Test f1_score:0.595842\n",
            "\n",
            "\n",
            "Epoch [9/15],Training Loss: 0.6990,Accuracy:59.245020,f1score: 0.5227\n",
            "Test loss: 0.595964, Test Accuracy: 60.915744, Test f1_score:0.512111\n",
            "\n",
            "\n",
            "Epoch [10/15],Training Loss: 0.6897,Accuracy:60.042727,f1score: 0.5328\n",
            "Test loss: 0.583009, Test Accuracy: 72.838825, Test f1_score:0.709383\n",
            "\n",
            "\n",
            "Epoch [11/15],Training Loss: 0.6797,Accuracy:60.683763,f1score: 0.5406\n",
            "Test loss: 0.595364, Test Accuracy: 60.293043, Test f1_score:0.509478\n",
            "\n",
            "\n",
            "Epoch [12/15],Training Loss: 0.6697,Accuracy:61.488599,f1score: 0.5509\n",
            "Test loss: 0.545202, Test Accuracy: 70.989007, Test f1_score:0.674305\n",
            "\n",
            "\n",
            "Epoch [13/15],Training Loss: 0.6567,Accuracy:62.554240,f1score: 0.5642\n",
            "Test loss: 0.487426, Test Accuracy: 85.256410, Test f1_score:0.851253\n",
            "\n",
            "\n",
            "Epoch [14/15],Training Loss: 0.6405,Accuracy:64.029300,f1score: 0.5827\n",
            "Test loss: 0.433266, Test Accuracy: 84.194136, Test f1_score:0.836955\n",
            "\n",
            "\n",
            "Epoch [15/15],Training Loss: 0.6244,Accuracy:65.572643,f1score: 0.6019\n",
            "Test loss: 0.425135, Test Accuracy: 85.970700, Test f1_score:0.857718\n",
            "\n",
            "\n"
          ],
          "name": "stdout"
        },
        {
          "output_type": "display_data",
          "data": {
            "image/png": "[encoded data removed]",
            "text/plain": [
              "<Figure size 432x288 with 1 Axes>"
            ]
          },
          "metadata": {
            "tags": []
          }
        },
        {
          "output_type": "display_data",
          "data": {
            "image/png": "[encoded data removed]",
            "text/plain": [
              "<Figure size 432x288 with 1 Axes>"
            ]
          },
          "metadata": {
            "tags": []
          }
        }
      ]
    },
    {
      "cell_type": "code",
      "metadata": {
        "colab": {
          "base_uri": "https://localhost:8080/"
        },
        "id": "KHQd0leYzSyR",
        "outputId": "583b7d90-1435-4acd-9cb1-411c652ef821"
      },
      "source": [
        "print_eval(evaluate(FC_many, test_loader))"
      ],
      "execution_count": null,
      "outputs": [
        {
          "output_type": "stream",
          "text": [
            "/usr/local/lib/python3.6/dist-packages/ipykernel_launcher.py:36: UserWarning: Implicit dimension choice for log_softmax has been deprecated. Change the call to include dim=X as an argument.\n"
          ],
          "name": "stderr"
        },
        {
          "output_type": "stream",
          "text": [
            "Test loss: 0.428631, Test Accuracy: 84.262830, Test f1_score:0.901374\n"
          ],
          "name": "stdout"
        }
      ]
    },
    {
      "cell_type": "markdown",
      "metadata": {
        "id": "tnik995CzoQe"
      },
      "source": [
        "**Model 3:  CNN --> 4 layers**"
      ]
    },
    {
      "cell_type": "code",
      "metadata": {
        "colab": {
          "base_uri": "https://localhost:8080/",
          "height": 1000
        },
        "id": "gbiaRL4LgM6o",
        "outputId": "3a207886-a712-4578-f25c-b2423b9b88a6"
      },
      "source": [
        "cnn2 = cnn2layers()\n",
        "cnn2.to(device)\n",
        "training_loop(cnn2,12)"
      ],
      "execution_count": null,
      "outputs": [
        {
          "output_type": "stream",
          "text": [
            "/usr/local/lib/python3.6/dist-packages/ipykernel_launcher.py:21: UserWarning: Implicit dimension choice for log_softmax has been deprecated. Change the call to include dim=X as an argument.\n"
          ],
          "name": "stderr"
        },
        {
          "output_type": "stream",
          "text": [
            "Epoch [1/12],Training Loss: 0.4064,Accuracy:84.059834,f1score: 0.8272\n",
            "Test loss: 0.466333, Test Accuracy: 80.604386, Test f1_score:0.791089\n",
            "\n",
            "\n",
            "Epoch [2/12],Training Loss: 0.3522,Accuracy:86.346155,f1score: 0.8555\n",
            "Test loss: 0.838618, Test Accuracy: 68.681318, Test f1_score:0.630089\n",
            "\n",
            "\n",
            "Epoch [3/12],Training Loss: 0.3298,Accuracy:87.535614,f1score: 0.8683\n",
            "Test loss: 0.192836, Test Accuracy: 93.076932, Test f1_score:0.928798\n",
            "\n",
            "\n",
            "Epoch [4/12],Training Loss: 0.3144,Accuracy:88.322639,f1score: 0.8779\n",
            "Test loss: 0.262129, Test Accuracy: 91.282046, Test f1_score:0.912096\n",
            "\n",
            "\n",
            "Epoch [5/12],Training Loss: 0.2892,Accuracy:89.367527,f1score: 0.8893\n",
            "Test loss: 1.173421, Test Accuracy: 64.578754, Test f1_score:0.601816\n",
            "\n",
            "\n",
            "Epoch [6/12],Training Loss: 0.2618,Accuracy:90.405977,f1score: 0.9005\n",
            "Test loss: 0.204894, Test Accuracy: 93.150181, Test f1_score:0.931057\n",
            "\n",
            "\n",
            "Epoch [7/12],Training Loss: 0.2328,Accuracy:91.471303,f1score: 0.9116\n",
            "Test loss: 0.208352, Test Accuracy: 93.278396, Test f1_score:0.933901\n",
            "\n",
            "\n",
            "Epoch [8/12],Training Loss: 0.2092,Accuracy:92.350417,f1score: 0.9208\n",
            "Test loss: 0.203987, Test Accuracy: 93.589735, Test f1_score:0.935883\n",
            "\n",
            "\n",
            "Epoch [9/12],Training Loss: 0.1875,Accuracy:93.162388,f1score: 0.9292\n",
            "Test loss: 0.228985, Test Accuracy: 93.608063, Test f1_score:0.936847\n",
            "\n",
            "\n",
            "Epoch [10/12],Training Loss: 0.1693,Accuracy:93.837601,f1score: 0.9362\n",
            "Test loss: 0.196332, Test Accuracy: 94.945055, Test f1_score:0.950225\n",
            "\n",
            "\n",
            "Epoch [11/12],Training Loss: 0.1542,Accuracy:94.386172,f1score: 0.9419\n",
            "Test loss: 0.208381, Test Accuracy: 94.688642, Test f1_score:0.947864\n",
            "\n",
            "\n",
            "Epoch [12/12],Training Loss: 0.1416,Accuracy:94.846857,f1score: 0.9466\n",
            "Test loss: 0.211182, Test Accuracy: 94.688642, Test f1_score:0.945300\n",
            "\n",
            "\n"
          ],
          "name": "stdout"
        },
        {
          "output_type": "display_data",
          "data": {
            "image/png": "[encoded data removed]",
            "text/plain": [
              "<Figure size 432x288 with 1 Axes>"
            ]
          },
          "metadata": {
            "tags": []
          }
        },
        {
          "output_type": "display_data",
          "data": {
            "image/png": "[encoded data removed]",
            "text/plain": [
              "<Figure size 432x288 with 1 Axes>"
            ]
          },
          "metadata": {
            "tags": []
          }
        }
      ]
    },
    {
      "cell_type": "code",
      "metadata": {
        "colab": {
          "base_uri": "https://localhost:8080/"
        },
        "id": "MA4mZbrmgWc7",
        "outputId": "32e51925-c33d-475c-e250-da4b00ee6218"
      },
      "source": [
        "print_eval(evaluate(cnn2, test_loader))"
      ],
      "execution_count": null,
      "outputs": [
        {
          "output_type": "stream",
          "text": [
            "/usr/local/lib/python3.6/dist-packages/ipykernel_launcher.py:21: UserWarning: Implicit dimension choice for log_softmax has been deprecated. Change the call to include dim=X as an argument.\n"
          ],
          "name": "stderr"
        },
        {
          "output_type": "stream",
          "text": [
            "Test loss: 0.281676, Test Accuracy: 93.397433, Test f1_score:0.963509\n"
          ],
          "name": "stdout"
        }
      ]
    },
    {
      "cell_type": "markdown",
      "metadata": {
        "id": "85VKw95ziwOw"
      },
      "source": [
        "**Model 4:  CNN --> 8 layers**"
      ]
    },
    {
      "cell_type": "code",
      "metadata": {
        "colab": {
          "base_uri": "https://localhost:8080/",
          "height": 1000
        },
        "id": "wb2mc_NdzywT",
        "outputId": "0b27e60f-1504-4b83-b5dd-523e486cf1a7"
      },
      "source": [
        "# torch.cuda.empty_cache()\n",
        "cnn_few  = Cnn_few()\n",
        "cnn_few.to(device)\n",
        "training_loop(cnn_few,15)"
      ],
      "execution_count": null,
      "outputs": [
        {
          "output_type": "stream",
          "text": [
            "/usr/local/lib/python3.6/dist-packages/ipykernel_launcher.py:49: UserWarning: Implicit dimension choice for log_softmax has been deprecated. Change the call to include dim=X as an argument.\n"
          ],
          "name": "stderr"
        },
        {
          "output_type": "stream",
          "text": [
            "Epoch [1/15],Training Loss: 0.6673,Accuracy:67.393160,f1score: 0.6295\n",
            "Test loss: 0.436159, Test Accuracy: 89.871794, Test f1_score:0.896447\n",
            "\n",
            "\n",
            "Epoch [2/15],Training Loss: 0.5190,Accuracy:77.222222,f1score: 0.7503\n",
            "Test loss: 0.389332, Test Accuracy: 87.252748, Test f1_score:0.872331\n",
            "\n",
            "\n",
            "Epoch [3/15],Training Loss: 0.4735,Accuracy:79.957253,f1score: 0.7832\n",
            "Test loss: 0.280324, Test Accuracy: 90.512830, Test f1_score:0.904980\n",
            "\n",
            "\n",
            "Epoch [4/15],Training Loss: 0.4538,Accuracy:81.442314,f1score: 0.8005\n",
            "Test loss: 0.484892, Test Accuracy: 77.728933, Test f1_score:0.762317\n",
            "\n",
            "\n",
            "Epoch [5/15],Training Loss: 0.4279,Accuracy:82.888889,f1score: 0.8166\n",
            "Test loss: 0.242639, Test Accuracy: 91.684985, Test f1_score:0.918326\n",
            "\n",
            "\n",
            "Epoch [6/15],Training Loss: 0.3952,Accuracy:84.458685,f1score: 0.8344\n",
            "Test loss: 0.235415, Test Accuracy: 91.282058, Test f1_score:0.914828\n",
            "\n",
            "\n",
            "Epoch [7/15],Training Loss: 0.3675,Accuracy:85.702074,f1score: 0.8483\n",
            "Test loss: 0.251612, Test Accuracy: 91.813189, Test f1_score:0.918602\n",
            "\n",
            "\n",
            "Epoch [8/15],Training Loss: 0.3416,Accuracy:86.821586,f1score: 0.8603\n",
            "Test loss: 0.203031, Test Accuracy: 93.296707, Test f1_score:0.934398\n",
            "\n",
            "\n",
            "Epoch [9/15],Training Loss: 0.3163,Accuracy:87.877488,f1score: 0.8718\n",
            "Test loss: 0.241610, Test Accuracy: 93.150181, Test f1_score:0.929773\n",
            "\n",
            "\n",
            "Epoch [10/15],Training Loss: 0.2932,Accuracy:88.743591,f1score: 0.8812\n",
            "Test loss: 0.252753, Test Accuracy: 92.509156, Test f1_score:0.925263\n",
            "\n",
            "\n",
            "Epoch [11/15],Training Loss: 0.2718,Accuracy:89.568764,f1score: 0.8900\n",
            "Test loss: 0.290685, Test Accuracy: 92.179489, Test f1_score:0.921560\n",
            "\n",
            "\n",
            "Epoch [12/15],Training Loss: 0.2526,Accuracy:90.320510,f1score: 0.8980\n",
            "Test loss: 0.232484, Test Accuracy: 94.560438, Test f1_score:0.944470\n",
            "\n",
            "\n",
            "Epoch [13/15],Training Loss: 0.2345,Accuracy:91.022342,f1score: 0.9054\n",
            "Test loss: 0.247729, Test Accuracy: 94.358975, Test f1_score:0.944025\n",
            "\n",
            "\n",
            "Epoch [14/15],Training Loss: 0.2187,Accuracy:91.639185,f1score: 0.9119\n",
            "Test loss: 0.275939, Test Accuracy: 94.175816, Test f1_score:0.942371\n",
            "\n",
            "\n",
            "Epoch [15/15],Training Loss: 0.2048,Accuracy:92.176640,f1score: 0.9176\n",
            "Test loss: 0.286301, Test Accuracy: 93.919420, Test f1_score:0.938789\n",
            "\n",
            "\n"
          ],
          "name": "stdout"
        },
        {
          "output_type": "display_data",
          "data": {
            "image/png": "[encoded data removed]",
            "text/plain": [
              "<Figure size 432x288 with 1 Axes>"
            ]
          },
          "metadata": {
            "tags": []
          }
        },
        {
          "output_type": "display_data",
          "data": {
            "image/png": "[encoded data removed]",
            "text/plain": [
              "<Figure size 432x288 with 1 Axes>"
            ]
          },
          "metadata": {
            "tags": []
          }
        }
      ]
    },
    {
      "cell_type": "code",
      "metadata": {
        "colab": {
          "base_uri": "https://localhost:8080/"
        },
        "id": "uM-JMaeDz8b5",
        "outputId": "9d41f853-7f8b-416c-db8e-52bbadbfcc01"
      },
      "source": [
        "print_eval(evaluate(cnn_few, test_loader))"
      ],
      "execution_count": null,
      "outputs": [
        {
          "output_type": "stream",
          "text": [
            "/usr/local/lib/python3.6/dist-packages/ipykernel_launcher.py:49: UserWarning: Implicit dimension choice for log_softmax has been deprecated. Change the call to include dim=X as an argument.\n"
          ],
          "name": "stderr"
        },
        {
          "output_type": "stream",
          "text": [
            "Test loss: 0.334319, Test Accuracy: 93.942302, Test f1_score:0.966823\n"
          ],
          "name": "stdout"
        }
      ]
    },
    {
      "cell_type": "markdown",
      "metadata": {
        "id": "tNjchFkU0CKt"
      },
      "source": [
        "**Model 5 : CNN --> 13 layers **"
      ]
    },
    {
      "cell_type": "code",
      "metadata": {
        "colab": {
          "base_uri": "https://localhost:8080/",
          "height": 1000
        },
        "id": "Btx5KmNF0Hnz",
        "outputId": "b46258e4-e5e9-4c12-ceea-fc77cd168258"
      },
      "source": [
        "cnn_many = Cnn_many()\n",
        "cnn_many.to(device)\n",
        "training_loop(cnn_many,15)"
      ],
      "execution_count": null,
      "outputs": [
        {
          "output_type": "stream",
          "text": [
            "/usr/local/lib/python3.6/dist-packages/ipykernel_launcher.py:80: UserWarning: Implicit dimension choice for log_softmax has been deprecated. Change the call to include dim=X as an argument.\n"
          ],
          "name": "stderr"
        },
        {
          "output_type": "stream",
          "text": [
            "Epoch [1/12],Training Loss: 1.0112,Accuracy:60.384619,f1score: 0.5972\n",
            "Test loss: 0.611221, Test Accuracy: 63.736260, Test f1_score:0.565871\n",
            "\n",
            "\n",
            "Epoch [2/12],Training Loss: 0.9887,Accuracy:57.008553,f1score: 0.5289\n",
            "Test loss: 0.817704, Test Accuracy: 67.289382, Test f1_score:0.660539\n",
            "\n",
            "\n",
            "Epoch [3/12],Training Loss: 1.0051,Accuracy:51.324791,f1score: 0.4441\n",
            "Test loss: 1.097438, Test Accuracy: 34.523812, Test f1_score:0.191834\n",
            "\n",
            "\n",
            "Epoch [4/12],Training Loss: 1.0284,Accuracy:47.115386,f1score: 0.3822\n",
            "Test loss: 1.097854, Test Accuracy: 34.468862, Test f1_score:0.199983\n",
            "\n",
            "\n",
            "Epoch [5/12],Training Loss: 1.0422,Accuracy:44.709399,f1score: 0.3462\n",
            "Test loss: 1.097357, Test Accuracy: 34.706959, Test f1_score:0.200755\n",
            "\n",
            "\n",
            "Epoch [6/12],Training Loss: 1.0516,Accuracy:43.005696,f1score: 0.3212\n",
            "Test loss: 1.097334, Test Accuracy: 34.542125, Test f1_score:0.193986\n",
            "\n",
            "\n",
            "Epoch [7/12],Training Loss: 1.0582,Accuracy:41.709402,f1score: 0.3026\n",
            "Test loss: 1.097229, Test Accuracy: 34.706962, Test f1_score:0.194685\n",
            "\n",
            "\n",
            "Epoch [8/12],Training Loss: 1.0631,Accuracy:40.662390,f1score: 0.2880\n",
            "Test loss: 1.097299, Test Accuracy: 34.597069, Test f1_score:0.195603\n",
            "\n",
            "\n",
            "Epoch [9/12],Training Loss: 1.0670,Accuracy:39.919281,f1score: 0.2776\n",
            "Test loss: 1.097321, Test Accuracy: 34.523806, Test f1_score:0.193257\n",
            "\n",
            "\n",
            "Epoch [10/12],Training Loss: 1.0532,Accuracy:40.636751,f1score: 0.2859\n",
            "Test loss: 0.859359, Test Accuracy: 61.996335, Test f1_score:0.543979\n",
            "\n",
            "\n",
            "Epoch [11/12],Training Loss: 1.0137,Accuracy:43.278947,f1score: 0.3196\n",
            "Test loss: 0.388793, Test Accuracy: 84.304029, Test f1_score:0.842893\n",
            "\n",
            "\n",
            "Epoch [12/12],Training Loss: 0.9565,Accuracy:47.004992,f1score: 0.3663\n",
            "Test loss: 0.290251, Test Accuracy: 89.304030, Test f1_score:0.892179\n",
            "\n",
            "\n"
          ],
          "name": "stdout"
        },
        {
          "output_type": "display_data",
          "data": {
            "image/png": "[encoded data removed]",
            "text/plain": [
              "<Figure size 432x288 with 1 Axes>"
            ]
          },
          "metadata": {
            "tags": []
          }
        },
        {
          "output_type": "display_data",
          "data": {
            "image/png": "[encoded data removed]",
            "text/plain": [
              "<Figure size 432x288 with 1 Axes>"
            ]
          },
          "metadata": {
            "tags": []
          }
        }
      ]
    },
    {
      "cell_type": "code",
      "metadata": {
        "colab": {
          "base_uri": "https://localhost:8080/"
        },
        "id": "tUUOgJLp0QQo",
        "outputId": "0ccc3543-cb32-4cd3-a3b8-7e800874e9f2"
      },
      "source": [
        "print_eval(evaluate(cnn_many, test_loader))"
      ],
      "execution_count": null,
      "outputs": [
        {
          "output_type": "stream",
          "text": [
            "/usr/local/lib/python3.6/dist-packages/ipykernel_launcher.py:80: UserWarning: Implicit dimension choice for log_softmax has been deprecated. Change the call to include dim=X as an argument.\n"
          ],
          "name": "stderr"
        },
        {
          "output_type": "stream",
          "text": [
            "Test loss: 0.326581, Test Accuracy: 89.006412, Test f1_score:0.935830\n"
          ],
          "name": "stdout"
        }
      ]
    },
    {
      "cell_type": "markdown",
      "metadata": {
        "id": "Hi_pD0dfjHj8"
      },
      "source": [
        "**Model 6: Resnet 18**"
      ]
    },
    {
      "cell_type": "code",
      "metadata": {
        "colab": {
          "base_uri": "https://localhost:8080/",
          "height": 1000
        },
        "id": "DCP6cZWHqqs8",
        "outputId": "075cbb58-a65b-4416-afcc-3f0d32649c03"
      },
      "source": [
        "res_1 = models.resnet18(pretrained=False)\n",
        "res_1.to(device)\n",
        "# print(next(model.parameters()).is_cuda)\n",
        "num_ftrs = res_1.fc.in_features\n",
        "res_1.fc = nn.Linear(num_ftrs, 3).to(device)\n",
        "training_loop(res_1,15)"
      ],
      "execution_count": null,
      "outputs": [
        {
          "output_type": "stream",
          "text": [
            "Epoch [1/15],Training Loss: 0.3291,Accuracy:88.227737,f1score: 0.8842\n",
            "Test loss: 0.361734, Test Accuracy: 85.615081, Test f1_score:0.853316\n",
            "\n",
            "\n",
            "Epoch [2/15],Training Loss: 0.5627,Accuracy:76.402938,f1score: 0.7401\n",
            "Test loss: 0.602078, Test Accuracy: 72.052157, Test f1_score:0.698502\n",
            "\n",
            "\n",
            "Epoch [3/15],Training Loss: 0.5564,Accuracy:76.436025,f1score: 0.7452\n",
            "Test loss: 0.622285, Test Accuracy: 78.854877, Test f1_score:0.773336\n",
            "\n",
            "\n",
            "Epoch [4/15],Training Loss: 0.5610,Accuracy:76.849508,f1score: 0.7503\n",
            "Test loss: 0.773578, Test Accuracy: 58.021539, Test f1_score:0.523640\n",
            "\n",
            "\n",
            "Epoch [5/15],Training Loss: 0.5638,Accuracy:77.181661,f1score: 0.7549\n",
            "Test loss: 0.354381, Test Accuracy: 88.520408, Test f1_score:0.884718\n",
            "\n",
            "\n",
            "Epoch [6/15],Training Loss: 0.5287,Accuracy:78.830689,f1score: 0.7737\n",
            "Test loss: 0.319004, Test Accuracy: 88.166100, Test f1_score:0.879533\n",
            "\n",
            "\n",
            "Epoch [7/15],Training Loss: 0.4903,Accuracy:80.421072,f1score: 0.7915\n",
            "Test loss: 0.199691, Test Accuracy: 92.757940, Test f1_score:0.926083\n",
            "\n",
            "\n",
            "Epoch [8/15],Training Loss: 0.4556,Accuracy:81.985527,f1score: 0.8086\n",
            "Test loss: 0.187559, Test Accuracy: 93.494898, Test f1_score:0.936257\n",
            "\n",
            "\n",
            "Epoch [9/15],Training Loss: 0.4218,Accuracy:83.383065,f1score: 0.8239\n",
            "Test loss: 0.177840, Test Accuracy: 93.494898, Test f1_score:0.935013\n",
            "\n",
            "\n",
            "Epoch [10/15],Training Loss: 0.3898,Accuracy:84.715134,f1score: 0.8382\n",
            "Test loss: 0.188852, Test Accuracy: 93.934244, Test f1_score:0.939448\n",
            "\n",
            "\n",
            "Epoch [11/15],Training Loss: 0.3599,Accuracy:85.925651,f1score: 0.8511\n",
            "Test loss: 0.181121, Test Accuracy: 94.642860, Test f1_score:0.946247\n",
            "\n",
            "\n",
            "Epoch [12/15],Training Loss: 0.3335,Accuracy:86.962956,f1score: 0.8622\n",
            "Test loss: 0.182296, Test Accuracy: 94.642860, Test f1_score:0.946953\n",
            "\n",
            "\n",
            "Epoch [13/15],Training Loss: 0.3089,Accuracy:87.939459,f1score: 0.8725\n",
            "Test loss: 0.200594, Test Accuracy: 95.181406, Test f1_score:0.951341\n",
            "\n",
            "\n",
            "Epoch [14/15],Training Loss: 0.2872,Accuracy:88.794810,f1score: 0.8815\n",
            "Test loss: 0.205041, Test Accuracy: 95.535713, Test f1_score:0.955854\n",
            "\n",
            "\n",
            "Epoch [15/15],Training Loss: 0.2684,Accuracy:89.538968,f1score: 0.8894\n",
            "Test loss: 0.206870, Test Accuracy: 95.408165, Test f1_score:0.954422\n",
            "\n",
            "\n"
          ],
          "name": "stdout"
        },
        {
          "output_type": "display_data",
          "data": {
            "image/png": "[encoded data removed]",
            "text/plain": [
              "<Figure size 432x288 with 1 Axes>"
            ]
          },
          "metadata": {
            "tags": [],
            "needs_background": "light"
          }
        },
        {
          "output_type": "display_data",
          "data": {
            "image/png": "[encoded data removed]",
            "text/plain": [
              "<Figure size 432x288 with 1 Axes>"
            ]
          },
          "metadata": {
            "tags": [],
            "needs_background": "light"
          }
        }
      ]
    },
    {
      "cell_type": "code",
      "metadata": {
        "colab": {
          "base_uri": "https://localhost:8080/"
        },
        "id": "X5101W2IqumN",
        "outputId": "12a58268-566b-4fff-8a4d-1005856af557"
      },
      "source": [
        "print_eval(evaluate(res_1, test_loader))"
      ],
      "execution_count": null,
      "outputs": [
        {
          "output_type": "stream",
          "text": [
            "Test loss: 0.271720, Test Accuracy: 94.897962, Test f1_score:0.972893\n"
          ],
          "name": "stdout"
        }
      ]
    },
    {
      "cell_type": "markdown",
      "metadata": {
        "id": "dS7_PxnZaSiQ"
      },
      "source": [
        "**Model 7: Resnet 18 pretrained**"
      ]
    },
    {
      "cell_type": "code",
      "metadata": {
        "colab": {
          "base_uri": "https://localhost:8080/",
          "height": 1000
        },
        "id": "IP0wVSTQaZ5t",
        "outputId": "a91e88e0-3dae-4414-f0d8-a4231f48aec1"
      },
      "source": [
        "Res_18 = models.resnet18(pretrained=True)\n",
        "Res_18.to(device)\n",
        "num_ftrs = Res_18.fc.in_features\n",
        "Res_18.fc = nn.Dropout(0.25)\n",
        "Res_18.fc = nn.Linear(num_ftrs, 3).to(device)\n",
        "# for param in Res_18.parameters():\n",
        "#  param.require_grad = False\n",
        "# for param in Res_18.fc.parameters():\n",
        "#   param.require_grad = True\n",
        "# # torch.nn.functional.softmax(Res_18.fc, dim=0)\n",
        "\n",
        "training_loop(Res_18,10)"
      ],
      "execution_count": null,
      "outputs": [
        {
          "output_type": "stream",
          "text": [
            "Epoch [1/10],Training Loss: 0.2175,Accuracy:92.403483,f1score: 0.9254\n",
            "Test loss: 0.221110, Test Accuracy: 94.387758, Test f1_score:0.943424\n",
            "\n",
            "\n",
            "Epoch [2/10],Training Loss: 0.6868,Accuracy:63.182986,f1score: 0.5568\n",
            "Test loss: 1.100743, Test Accuracy: 34.509635, Test f1_score:0.186627\n",
            "\n",
            "\n",
            "Epoch [3/10],Training Loss: 85.2102,Accuracy:54.042137,f1score: 0.4392\n",
            "Test loss: 3.327987, Test Accuracy: 34.708050, Test f1_score:0.190664\n",
            "\n",
            "\n",
            "Epoch [4/10],Training Loss: 67.9659,Accuracy:49.102005,f1score: 0.3777\n",
            "Test loss: 1.098902, Test Accuracy: 34.410429, Test f1_score:0.192975\n",
            "\n",
            "\n",
            "Epoch [5/10],Training Loss: 54.5924,Accuracy:46.206415,f1score: 0.3398\n",
            "Test loss: 1.097641, Test Accuracy: 34.708050, Test f1_score:0.189839\n",
            "\n",
            "\n",
            "Epoch [6/10],Training Loss: 45.6766,Accuracy:44.269538,f1score: 0.3148\n",
            "Test loss: 1.097352, Test Accuracy: 34.608841, Test f1_score:0.186701\n",
            "\n",
            "\n",
            "Epoch [7/10],Training Loss: 39.3081,Accuracy:42.894393,f1score: 0.2970\n",
            "Test loss: 1.097292, Test Accuracy: 34.509635, Test f1_score:0.186088\n",
            "\n",
            "\n",
            "Epoch [8/10],Training Loss: 34.5318,Accuracy:41.855252,f1score: 0.2835\n",
            "Test loss: 1.097397, Test Accuracy: 34.410429, Test f1_score:0.186970\n",
            "\n",
            "\n",
            "Epoch [9/10],Training Loss: 30.8168,Accuracy:41.051787,f1score: 0.2732\n",
            "Test loss: 1.097189, Test Accuracy: 34.608841, Test f1_score:0.187468\n",
            "\n",
            "\n",
            "Epoch [10/10],Training Loss: 27.8449,Accuracy:40.409011,f1score: 0.2648\n",
            "Test loss: 1.097366, Test Accuracy: 34.509635, Test f1_score:0.194068\n",
            "\n",
            "\n"
          ],
          "name": "stdout"
        },
        {
          "output_type": "display_data",
          "data": {
            "image/png": "[encoded data removed]",
            "text/plain": [
              "<Figure size 432x288 with 1 Axes>"
            ]
          },
          "metadata": {
            "tags": [],
            "needs_background": "light"
          }
        },
        {
          "output_type": "display_data",
          "data": {
            "image/png": "[encoded data removed]",
            "text/plain": [
              "<Figure size 432x288 with 1 Axes>"
            ]
          },
          "metadata": {
            "tags": [],
            "needs_background": "light"
          }
        }
      ]
    },
    {
      "cell_type": "code",
      "metadata": {
        "id": "tgWrglF60k62",
        "colab": {
          "base_uri": "https://localhost:8080/"
        },
        "outputId": "ac7b0c62-792b-4588-d5f0-b4af74cce7ab"
      },
      "source": [
        "print_eval(evaluate(Res_18, test_loader))"
      ],
      "execution_count": null,
      "outputs": [
        {
          "output_type": "stream",
          "text": [
            "Test loss: 1.096904, Test Accuracy: 35.076532, Test f1_score:0.348147\n"
          ],
          "name": "stdout"
        }
      ]
    },
    {
      "cell_type": "code",
      "metadata": {
        "id": "cov864pXJO1J"
      },
      "source": [
        "# path = 'res18.pt'\n",
        "# torch.save(Res_18.state_dict(), path) # save the model "
      ],
      "execution_count": null,
      "outputs": []
    },
    {
      "cell_type": "code",
      "metadata": {
        "id": "iTFqW3Z8JPAD"
      },
      "source": [
        "# Res_18.load_state_dict(torch.load(path)) # load the model"
      ],
      "execution_count": null,
      "outputs": []
    },
    {
      "cell_type": "code",
      "metadata": {
        "id": "gu2IgldzJPsA"
      },
      "source": [
        "# # freeze all parameters\n",
        "# for param in Res_18.parameters():\n",
        "#  param.require_grad = False\n",
        "\n",
        "# training_loop(Res_18, True)"
      ],
      "execution_count": null,
      "outputs": []
    },
    {
      "cell_type": "code",
      "metadata": {
        "id": "Dh3LFSqvNX2l"
      },
      "source": [
        "# print_eval(evaluate(Res_18, test_loader))"
      ],
      "execution_count": null,
      "outputs": []
    },
    {
      "cell_type": "markdown",
      "metadata": {
        "id": "vxOudGJ4jQ7T"
      },
      "source": [
        "**Model 8: Resnet 50**"
      ]
    },
    {
      "cell_type": "code",
      "metadata": {
        "colab": {
          "background_save": true
        },
        "id": "HobK5Bwpqj_x",
        "outputId": "2c525dd2-2eb2-432f-e777-a1200811ecb6"
      },
      "source": [
        "res_2 = models.resnet50(pretrained=False)\n",
        "res_2.to(device)\n",
        "# print(next(model.parameters()).is_cuda)\n",
        "num_ftrs = res_2.fc.in_features\n",
        "res_2.fc = nn.Linear(num_ftrs, 3).to(device)\n",
        "training_loop(res_2, 15)"
      ],
      "execution_count": null,
      "outputs": [
        {
          "output_type": "stream",
          "text": [
            "Epoch [1/15],Training Loss: 0.6189,Accuracy:74.786329,f1score: 0.7491\n",
            "Test loss: 0.511959, Test Accuracy: 81.300366, Test f1_score:0.813882\n",
            "\n",
            "\n",
            "Epoch [2/15],Training Loss: 0.8019,Accuracy:66.047013,f1score: 0.6202\n",
            "Test loss: 0.911179, Test Accuracy: 63.021982, Test f1_score:0.549456\n",
            "\n",
            "\n",
            "Epoch [3/15],Training Loss: 0.7606,Accuracy:67.792028,f1score: 0.6394\n",
            "Test loss: 0.927416, Test Accuracy: 61.813194, Test f1_score:0.582392\n",
            "\n",
            "\n",
            "Epoch [4/15],Training Loss: 0.7125,Accuracy:70.160258,f1score: 0.6676\n",
            "Test loss: 0.463783, Test Accuracy: 82.637358, Test f1_score:0.825454\n",
            "\n",
            "\n",
            "Epoch [5/15],Training Loss: 0.6694,Accuracy:72.290599,f1score: 0.6942\n",
            "Test loss: 0.841005, Test Accuracy: 65.604401, Test f1_score:0.587255\n",
            "\n",
            "\n",
            "Epoch [6/15],Training Loss: 0.6313,Accuracy:74.002850,f1score: 0.7154\n",
            "Test loss: 0.470328, Test Accuracy: 83.717954, Test f1_score:0.837779\n",
            "\n",
            "\n",
            "Epoch [7/15],Training Loss: 0.5919,Accuracy:75.763136,f1score: 0.7360\n",
            "Test loss: 0.342640, Test Accuracy: 88.736266, Test f1_score:0.885620\n",
            "\n",
            "\n",
            "Epoch [8/15],Training Loss: 0.5564,Accuracy:77.345079,f1score: 0.7543\n",
            "Test loss: 0.295637, Test Accuracy: 89.102566, Test f1_score:0.892308\n",
            "\n",
            "\n",
            "Epoch [9/15],Training Loss: 0.5245,Accuracy:78.770185,f1score: 0.7705\n",
            "Test loss: 0.237592, Test Accuracy: 91.153842, Test f1_score:0.914090\n",
            "\n",
            "\n",
            "Epoch [10/15],Training Loss: 0.4936,Accuracy:80.094016,f1score: 0.7854\n",
            "Test loss: 0.263034, Test Accuracy: 89.304030, Test f1_score:0.887857\n",
            "\n",
            "\n",
            "Epoch [11/15],Training Loss: 0.4654,Accuracy:81.282049,f1score: 0.7986\n",
            "Test loss: 0.208300, Test Accuracy: 92.948717, Test f1_score:0.930016\n",
            "\n",
            "\n",
            "Epoch [12/15],Training Loss: 0.4383,Accuracy:82.432336,f1score: 0.8113\n",
            "Test loss: 0.192933, Test Accuracy: 93.278384, Test f1_score:0.931229\n",
            "\n",
            "\n",
            "Epoch [13/15],Training Loss: 0.4117,Accuracy:83.547008,f1score: 0.8235\n",
            "Test loss: 0.173103, Test Accuracy: 93.663007, Test f1_score:0.938474\n",
            "\n",
            "\n",
            "Epoch [14/15],Training Loss: 0.3861,Accuracy:84.603179,f1score: 0.8349\n",
            "Test loss: 0.175854, Test Accuracy: 94.102567, Test f1_score:0.942183\n",
            "\n",
            "\n",
            "Epoch [15/15],Training Loss: 0.3631,Accuracy:85.552704,f1score: 0.8451\n",
            "Test loss: 0.178965, Test Accuracy: 94.358981, Test f1_score:0.943860\n",
            "\n",
            "\n"
          ],
          "name": "stdout"
        },
        {
          "output_type": "display_data",
          "data": {
            "image/png": "[encoded data removed]",
            "text/plain": [
              "<Figure size 432x288 with 1 Axes>"
            ]
          },
          "metadata": {
            "tags": []
          }
        },
        {
          "output_type": "display_data",
          "data": {
            "image/png": "[encoded data removed]",
            "text/plain": [
              "<Figure size 432x288 with 1 Axes>"
            ]
          },
          "metadata": {
            "tags": []
          }
        }
      ]
    },
    {
      "cell_type": "code",
      "metadata": {
        "colab": {
          "background_save": true
        },
        "id": "dg4D09ylqltr",
        "outputId": "0b2cca29-41ce-413d-af9b-70eec9092864"
      },
      "source": [
        "print_eval(evaluate(res_2, test_loader))"
      ],
      "execution_count": null,
      "outputs": [
        {
          "output_type": "stream",
          "text": [
            "Test loss: 0.186092, Test Accuracy: 93.814105, Test f1_score:0.966589\n"
          ],
          "name": "stdout"
        }
      ]
    },
    {
      "cell_type": "markdown",
      "metadata": {
        "id": "pAJCzPG5jNKI"
      },
      "source": [
        "**Model 9: Resnet 50 pretrained**"
      ]
    },
    {
      "cell_type": "code",
      "metadata": {
        "id": "knIq9IR4ZRYD",
        "colab": {
          "base_uri": "https://localhost:8080/",
          "height": 1000,
          "referenced_widgets": [
            "bfcc2e60e2994574817f5db79d41d170",
            "0bd64be67eec49f4822b3e5543e481d9",
            "0cb6f8196e7b43798c95cf4260889ff6",
            "8918cfe9d3b9448b8a6b41288329e538",
            "59eae8329aa148c8aa311d3c86770434",
            "97213f52f27a44d49dba9ac0d6c1250e",
            "10b87de750d54322a66c753337716f36",
            "d3af7a25aafe430ab1ab3f67f91cf848"
          ]
        },
        "outputId": "6aa4e9e7-1cf4-4593-ce31-d7ca55ac1439"
      },
      "source": [
        "Res_50 = models.resnet50(pretrained=True)\n",
        "Res_50.to(device)\n",
        "num_ftrs = Res_50.fc.in_features\n",
        "Res_50.fc = nn.Linear(num_ftrs, 3).to(device)\n",
        "training_loop(Res_50, 15)"
      ],
      "execution_count": null,
      "outputs": [
        {
          "output_type": "stream",
          "text": [
            "Downloading: \"https://download.pytorch.org/models/resnet50-19c8e357.pth\" to /root/.cache/torch/hub/checkpoints/resnet50-19c8e357.pth\n"
          ],
          "name": "stderr"
        },
        {
          "output_type": "display_data",
          "data": {
            "application/vnd.jupyter.widget-view+json": {
              "model_id": "bfcc2e60e2994574817f5db79d41d170",
              "version_minor": 0,
              "version_major": 2
            },
            "text/plain": [
              "HBox(children=(FloatProgress(value=0.0, max=102502400.0), HTML(value='')))"
            ]
          },
          "metadata": {
            "tags": []
          }
        },
        {
          "output_type": "stream",
          "text": [
            "\n",
            "Epoch [1/15],Training Loss: 0.2532,Accuracy:91.352737,f1score: 0.9147\n",
            "Test loss: 0.150010, Test Accuracy: 94.515306, Test f1_score:0.944370\n",
            "\n",
            "\n",
            "Epoch [2/15],Training Loss: 0.5161,Accuracy:77.432281,f1score: 0.7367\n",
            "Test loss: 0.643091, Test Accuracy: 63.222790, Test f1_score:0.524966\n",
            "\n",
            "\n",
            "Epoch [3/15],Training Loss: 0.5616,Accuracy:73.784506,f1score: 0.6923\n",
            "Test loss: 0.599032, Test Accuracy: 74.773246, Test f1_score:0.740376\n",
            "\n",
            "\n",
            "Epoch [4/15],Training Loss: 2127979.5000,Accuracy:70.074135,f1score: 0.6461\n",
            "Test loss: 101714.529815, Test Accuracy: 34.608841, Test f1_score:0.187938\n",
            "\n",
            "\n",
            "Epoch [5/15],Training Loss: 414393008128.0000,Accuracy:62.996578,f1score: 0.5552\n",
            "Test loss: 1.102732, Test Accuracy: 34.382084, Test f1_score:0.190458\n",
            "\n",
            "\n",
            "Epoch [6/15],Training Loss: 345327501312.0000,Accuracy:58.246422,f1score: 0.4940\n",
            "Test loss: 1.098851, Test Accuracy: 34.382084, Test f1_score:0.188427\n",
            "\n",
            "\n",
            "Epoch [7/15],Training Loss: 295995015168.0000,Accuracy:54.850668,f1score: 0.4502\n",
            "Test loss: 1.097613, Test Accuracy: 34.580499, Test f1_score:0.189050\n",
            "\n",
            "\n",
            "Epoch [8/15],Training Loss: 258995634176.0000,Accuracy:52.311164,f1score: 0.4173\n",
            "Test loss: 1.097579, Test Accuracy: 34.382084, Test f1_score:0.185897\n",
            "\n",
            "\n",
            "Epoch [9/15],Training Loss: 230218334208.0000,Accuracy:50.329494,f1score: 0.3921\n",
            "Test loss: 1.097062, Test Accuracy: 34.679705, Test f1_score:0.189699\n",
            "\n",
            "\n",
            "Epoch [10/15],Training Loss: 207196504064.0000,Accuracy:48.748055,f1score: 0.3718\n",
            "Test loss: 1.097260, Test Accuracy: 34.778914, Test f1_score:0.191848\n",
            "\n",
            "\n",
            "Epoch [11/15],Training Loss: 188360458240.0000,Accuracy:47.450617,f1score: 0.3554\n",
            "Test loss: 1.097287, Test Accuracy: 34.382084, Test f1_score:0.191006\n",
            "\n",
            "\n",
            "Epoch [12/15],Training Loss: 172663750656.0000,Accuracy:46.364546,f1score: 0.3416\n",
            "Test loss: 1.097281, Test Accuracy: 34.282878, Test f1_score:0.186835\n",
            "\n",
            "\n",
            "Epoch [13/15],Training Loss: 159381913600.0000,Accuracy:45.451552,f1score: 0.3299\n",
            "Test loss: 1.097395, Test Accuracy: 34.282878, Test f1_score:0.190334\n",
            "\n",
            "\n",
            "Epoch [14/15],Training Loss: 147997507584.0000,Accuracy:44.601718,f1score: 0.3192\n",
            "Test loss: 1.097044, Test Accuracy: 35.005671, Test f1_score:0.195222\n",
            "\n",
            "\n",
            "Epoch [15/15],Training Loss: 138130997248.0000,Accuracy:43.939134,f1score: 0.3105\n",
            "Test loss: 1.097162, Test Accuracy: 34.608841, Test f1_score:0.191151\n",
            "\n",
            "\n"
          ],
          "name": "stdout"
        },
        {
          "output_type": "display_data",
          "data": {
            "image/png": "[encoded data removed]",
            "text/plain": [
              "<Figure size 432x288 with 1 Axes>"
            ]
          },
          "metadata": {
            "tags": [],
            "needs_background": "light"
          }
        },
        {
          "output_type": "display_data",
          "data": {
            "image/png": "[encoded data removed]",
            "text/plain": [
              "<Figure size 432x288 with 1 Axes>"
            ]
          },
          "metadata": {
            "tags": [],
            "needs_background": "light"
          }
        }
      ]
    },
    {
      "cell_type": "code",
      "metadata": {
        "id": "G1kI7ogw0-mS",
        "colab": {
          "base_uri": "https://localhost:8080/"
        },
        "outputId": "ef49259d-4eb5-4f0d-cb5a-4efb87869e37"
      },
      "source": [
        "print_eval(evaluate(Res_50, test_loader))"
      ],
      "execution_count": null,
      "outputs": [
        {
          "output_type": "stream",
          "text": [
            "Test loss: 1.096933, Test Accuracy: 35.076532, Test f1_score:0.348147\n"
          ],
          "name": "stdout"
        }
      ]
    },
    {
      "cell_type": "code",
      "metadata": {
        "id": "6ZuFXmj8A3FN"
      },
      "source": [
        "path = 'res50.pt'\n",
        "torch.save(Res_50.state_dict(), path)"
      ],
      "execution_count": null,
      "outputs": []
    },
    {
      "cell_type": "markdown",
      "metadata": {
        "id": "YV8YucuMrUv0"
      },
      "source": [
        "**Model 10: Dense net:**"
      ]
    },
    {
      "cell_type": "code",
      "metadata": {
        "id": "e1ET50oKrbrG",
        "colab": {
          "base_uri": "https://localhost:8080/",
          "height": 1000
        },
        "outputId": "34be9dea-4644-4299-b861-ffeffc986797"
      },
      "source": [
        "densenet_1 = models.densenet161(pretrained=False)\n",
        "densenet_1.to(device)\n",
        "num_ftrs = densenet_1.classifier.in_features\n",
        "densenet_1.classifier= nn.Sequential(\n",
        "   nn.Linear(num_ftrs, 3).to(device))\n",
        "training_loop(densenet_1,15)"
      ],
      "execution_count": null,
      "outputs": [
        {
          "output_type": "stream",
          "text": [
            "Epoch [1/15],Training Loss: 0.3638,Accuracy:86.624378,f1score: 0.8679\n",
            "Test loss: 1.292715, Test Accuracy: 73.072565, Test f1_score:0.717612\n",
            "\n",
            "\n",
            "Epoch [2/15],Training Loss: 0.5789,Accuracy:74.620563,f1score: 0.7188\n",
            "Test loss: 0.585171, Test Accuracy: 64.909297, Test f1_score:0.579728\n",
            "\n",
            "\n",
            "Epoch [3/15],Training Loss: 0.5664,Accuracy:74.805421,f1score: 0.7208\n",
            "Test loss: 0.341298, Test Accuracy: 87.585026, Test f1_score:0.875097\n",
            "\n",
            "\n",
            "Epoch [4/15],Training Loss: 0.5415,Accuracy:76.578063,f1score: 0.7430\n",
            "Test loss: 0.463939, Test Accuracy: 82.142860, Test f1_score:0.817743\n",
            "\n",
            "\n",
            "Epoch [5/15],Training Loss: 0.5169,Accuracy:78.103203,f1score: 0.7618\n",
            "Test loss: 0.364134, Test Accuracy: 88.676304, Test f1_score:0.885068\n",
            "\n",
            "\n",
            "Epoch [6/15],Training Loss: 0.4791,Accuracy:80.022830,f1score: 0.7840\n",
            "Test loss: 0.243760, Test Accuracy: 90.107709, Test f1_score:0.901823\n",
            "\n",
            "\n",
            "Epoch [7/15],Training Loss: 0.4473,Accuracy:81.614143,f1score: 0.8021\n",
            "Test loss: 0.205633, Test Accuracy: 91.992629, Test f1_score:0.920953\n",
            "\n",
            "\n",
            "Epoch [8/15],Training Loss: 0.4221,Accuracy:82.847530,f1score: 0.8162\n",
            "Test loss: 0.223592, Test Accuracy: 92.602038, Test f1_score:0.925533\n",
            "\n",
            "\n",
            "Epoch [9/15],Training Loss: 0.3982,Accuracy:83.963788,f1score: 0.8287\n",
            "Test loss: 0.172954, Test Accuracy: 93.778348, Test f1_score:0.936417\n",
            "\n",
            "\n",
            "Epoch [10/15],Training Loss: 0.3745,Accuracy:84.970421,f1score: 0.8398\n",
            "Test loss: 0.162519, Test Accuracy: 94.090128, Test f1_score:0.939578\n",
            "\n",
            "\n",
            "Epoch [11/15],Training Loss: 0.3521,Accuracy:85.974818,f1score: 0.8507\n",
            "Test loss: 0.150951, Test Accuracy: 94.543654, Test f1_score:0.945998\n",
            "\n",
            "\n",
            "Epoch [12/15],Training Loss: 0.3313,Accuracy:86.831611,f1score: 0.8601\n",
            "Test loss: 0.120213, Test Accuracy: 95.819163, Test f1_score:0.958282\n",
            "\n",
            "\n",
            "Epoch [13/15],Training Loss: 0.3115,Accuracy:87.661958,f1score: 0.8690\n",
            "Test loss: 0.142235, Test Accuracy: 94.642860, Test f1_score:0.947423\n",
            "\n",
            "\n",
            "Epoch [14/15],Training Loss: 0.2931,Accuracy:88.417882,f1score: 0.8771\n",
            "Test loss: 0.132434, Test Accuracy: 95.408165, Test f1_score:0.954169\n",
            "\n",
            "\n",
            "Epoch [15/15],Training Loss: 0.2766,Accuracy:89.092988,f1score: 0.8843\n",
            "Test loss: 0.135209, Test Accuracy: 95.181406, Test f1_score:0.950707\n",
            "\n",
            "\n"
          ],
          "name": "stdout"
        },
        {
          "output_type": "display_data",
          "data": {
            "image/png": "[encoded data removed]",
            "text/plain": [
              "<Figure size 432x288 with 1 Axes>"
            ]
          },
          "metadata": {
            "tags": [],
            "needs_background": "light"
          }
        },
        {
          "output_type": "display_data",
          "data": {
            "image/png": "[encoded data removed]",
            "text/plain": [
              "<Figure size 432x288 with 1 Axes>"
            ]
          },
          "metadata": {
            "tags": [],
            "needs_background": "light"
          }
        }
      ]
    },
    {
      "cell_type": "code",
      "metadata": {
        "id": "gJZAzrd6rldg",
        "colab": {
          "base_uri": "https://localhost:8080/"
        },
        "outputId": "0a8b984c-2087-4f7d-d48e-f4ac6a0a69af"
      },
      "source": [
        "print_eval(evaluate(densenet_1, test_loader))"
      ],
      "execution_count": null,
      "outputs": [
        {
          "output_type": "stream",
          "text": [
            "Test loss: 0.193594, Test Accuracy: 93.418372, Test f1_score:0.964069\n"
          ],
          "name": "stdout"
        }
      ]
    },
    {
      "cell_type": "markdown",
      "metadata": {
        "id": "rJpXDqrH5fS6"
      },
      "source": [
        "**Model 11: Dense net pretrained**"
      ]
    },
    {
      "cell_type": "code",
      "metadata": {
        "id": "2tf3gEz05kwh",
        "colab": {
          "base_uri": "https://localhost:8080/",
          "height": 1000,
          "referenced_widgets": [
            "a34d1c6b07ab4d77bc044c4da047a579",
            "9a66a5f8ae9845a9b5c11ac2a3240c97",
            "4b04c357cd9c4002af9dca5fdcf03b5e",
            "7fc7511d9d764e19a81d3a31c506aef9",
            "6bdbd64914214f1ead10cf450888ee94",
            "30fdf4f9a2634fd583b0785acfcf28b8",
            "48b8f85651ce4097b38f52d85658da8b",
            "7b9cbdf55ec74fb2b8a01a90c02f8bc0"
          ]
        },
        "outputId": "0b5191b1-fb29-48d6-ec44-655600e78e17"
      },
      "source": [
        "densenet = models.densenet161(pretrained=True)\n",
        "densenet.to(device)\n",
        "num_ftrs = densenet.classifier.in_features\n",
        "densenet.classifier= nn.Sequential(\n",
        "   nn.Linear(num_ftrs, 3).to(device))\n",
        "training_loop(densenet,15)"
      ],
      "execution_count": null,
      "outputs": [
        {
          "output_type": "stream",
          "text": [
            "Downloading: \"https://download.pytorch.org/models/densenet161-8d451a50.pth\" to /root/.cache/torch/hub/checkpoints/densenet161-8d451a50.pth\n"
          ],
          "name": "stderr"
        },
        {
          "output_type": "display_data",
          "data": {
            "application/vnd.jupyter.widget-view+json": {
              "model_id": "a34d1c6b07ab4d77bc044c4da047a579",
              "version_minor": 0,
              "version_major": 2
            },
            "text/plain": [
              "HBox(children=(FloatProgress(value=0.0, max=115730790.0), HTML(value='')))"
            ]
          },
          "metadata": {
            "tags": []
          }
        },
        {
          "output_type": "stream",
          "text": [
            "\n",
            "Epoch [1/15],Training Loss: 0.2187,Accuracy:92.959994,f1score: 0.9322\n",
            "Test loss: 0.139303, Test Accuracy: 95.918369, Test f1_score:0.958767\n",
            "\n",
            "\n",
            "Epoch [2/15],Training Loss: 0.5224,Accuracy:76.523584,f1score: 0.7321\n",
            "Test loss: 0.627722, Test Accuracy: 65.901357, Test f1_score:0.580874\n",
            "\n",
            "\n",
            "Epoch [3/15],Training Loss: 0.5410,Accuracy:75.809467,f1score: 0.7265\n",
            "Test loss: 0.802727, Test Accuracy: 69.671202, Test f1_score:0.630294\n",
            "\n",
            "\n",
            "Epoch [4/15],Training Loss: 575547161219956736.0000,Accuracy:67.123288,f1score: 0.6138\n",
            "Test loss: 107712710582789600.000000, Test Accuracy: 30.810657, Test f1_score:0.158412\n",
            "\n",
            "\n",
            "Epoch [5/15],Training Loss: 71664241554067816448.0000,Accuracy:60.041255,f1score: 0.5239\n",
            "Test loss: 13208122089999466496.000000, Test Accuracy: 34.708050, Test f1_score:0.188913\n",
            "\n",
            "\n",
            "Epoch [6/15],Training Loss: 59761192554555506688.0000,Accuracy:55.426264,f1score: 0.4660\n",
            "Test loss: 3424282476544.000000, Test Accuracy: 34.608841, Test f1_score:0.191609\n",
            "\n",
            "\n",
            "Epoch [7/15],Training Loss: 51223880589060866048.0000,Accuracy:52.525127,f1score: 0.4302\n",
            "Test loss: 114452712385.306122, Test Accuracy: 48.270977, Test f1_score:0.390486\n",
            "\n",
            "\n",
            "Epoch [8/15],Training Loss: 44820896614939885568.0000,Accuracy:50.329822,f1score: 0.4038\n",
            "Test loss: 21516565524.897961, Test Accuracy: 39.994329, Test f1_score:0.318698\n",
            "\n",
            "\n",
            "Epoch [9/15],Training Loss: 39840795036370337792.0000,Accuracy:48.995954,f1score: 0.3881\n",
            "Test loss: 15033446002.938776, Test Accuracy: 45.578229, Test f1_score:0.369314\n",
            "\n",
            "\n",
            "Epoch [10/15],Training Loss: 35856716852147257344.0000,Accuracy:48.455790,f1score: 0.3849\n",
            "Test loss: 10307659010.612246, Test Accuracy: 46.003404, Test f1_score:0.390038\n",
            "\n",
            "\n",
            "Epoch [11/15],Training Loss: 32597014520489050112.0000,Accuracy:48.319158,f1score: 0.3863\n",
            "Test loss: 9431948267.102041, Test Accuracy: 48.922899, Test f1_score:0.428683\n",
            "\n",
            "\n",
            "Epoch [12/15],Training Loss: 29880596277277753344.0000,Accuracy:48.081738,f1score: 0.3861\n",
            "Test loss: 13562277219.265306, Test Accuracy: 41.822562, Test f1_score:0.315938\n",
            "\n",
            "\n",
            "Epoch [13/15],Training Loss: 27582089209644580864.0000,Accuracy:48.330480,f1score: 0.3925\n",
            "Test loss: 6788661728.653061, Test Accuracy: 46.952948, Test f1_score:0.410464\n",
            "\n",
            "\n",
            "Epoch [14/15],Training Loss: 25611940294530433024.0000,Accuracy:48.800537,f1score: 0.4018\n",
            "Test loss: 3456577285.224490, Test Accuracy: 59.197849, Test f1_score:0.580789\n",
            "\n",
            "\n",
            "Epoch [15/15],Training Loss: 23904477901431504896.0000,Accuracy:49.406391,f1score: 0.4131\n",
            "Test loss: 2984361427.591837, Test Accuracy: 60.388327, Test f1_score:0.603873\n",
            "\n",
            "\n"
          ],
          "name": "stdout"
        },
        {
          "output_type": "display_data",
          "data": {
            "image/png": "[encoded data removed]",
            "text/plain": [
              "<Figure size 432x288 with 1 Axes>"
            ]
          },
          "metadata": {
            "tags": [],
            "needs_background": "light"
          }
        },
        {
          "output_type": "display_data",
          "data": {
            "image/png": "[encoded data removed]",
            "text/plain": [
              "<Figure size 432x288 with 1 Axes>"
            ]
          },
          "metadata": {
            "tags": [],
            "needs_background": "light"
          }
        }
      ]
    },
    {
      "cell_type": "code",
      "metadata": {
        "id": "2zoFPZx26Oyx",
        "colab": {
          "base_uri": "https://localhost:8080/"
        },
        "outputId": "774b2199-633f-4e9c-b94d-5e5a15a97b21"
      },
      "source": [
        "print_eval(evaluate(densenet, test_loader))"
      ],
      "execution_count": null,
      "outputs": [
        {
          "output_type": "stream",
          "text": [
            "Test loss: 3298101080.816327, Test Accuracy: 57.678574, Test f1_score:0.717837\n"
          ],
          "name": "stdout"
        }
      ]
    },
    {
      "cell_type": "markdown",
      "metadata": {
        "id": "nqMFsGByrrfc"
      },
      "source": [
        "**Model 12: Inception v3:**"
      ]
    },
    {
      "cell_type": "code",
      "metadata": {
        "id": "de0EzAhrry0D",
        "colab": {
          "base_uri": "https://localhost:8080/",
          "height": 1000
        },
        "outputId": "d1ff30ef-4153-4692-ef39-9d4c9ffbfc74"
      },
      "source": [
        "incp_v3_1 = models.inception_v3(pretrained=False,aux_logits=False)\n",
        "incp_v3_1.to(device)\n",
        "num_ftrs = incp_v3_1.fc.in_features\n",
        "incp_v3_1.fc = nn.Linear(num_ftrs, 3).to(device)\n",
        "training_loop(incp_v3_1,15)"
      ],
      "execution_count": null,
      "outputs": [
        {
          "output_type": "stream",
          "text": [
            "/usr/local/lib/python3.6/dist-packages/torchvision/models/inception.py:77: FutureWarning: The default weight initialization of inception_v3 will be changed in future releases of torchvision. If you wish to keep the old behavior (which leads to long initialization times due to scipy/scipy#11299), please set init_weights=True.\n",
            "  ' due to scipy/scipy#11299), please set init_weights=True.', FutureWarning)\n"
          ],
          "name": "stderr"
        },
        {
          "output_type": "stream",
          "text": [
            "Epoch [1/15],Training Loss: 0.6819,Accuracy:69.267589,f1score: 0.6961\n",
            "Test loss: 0.887269, Test Accuracy: 71.414405, Test f1_score:0.693188\n",
            "\n",
            "\n",
            "Epoch [2/15],Training Loss: 0.7416,Accuracy:68.283004,f1score: 0.6643\n",
            "Test loss: 0.441080, Test Accuracy: 83.545917, Test f1_score:0.828337\n",
            "\n",
            "\n",
            "Epoch [3/15],Training Loss: 0.6917,Accuracy:71.130401,f1score: 0.6896\n",
            "Test loss: 0.667060, Test Accuracy: 61.337870, Test f1_score:0.517125\n",
            "\n",
            "\n",
            "Epoch [4/15],Training Loss: 0.6575,Accuracy:73.013306,f1score: 0.7081\n",
            "Test loss: 0.494648, Test Accuracy: 84.084469, Test f1_score:0.839870\n",
            "\n",
            "\n",
            "Epoch [5/15],Training Loss: 0.6490,Accuracy:73.283005,f1score: 0.7076\n",
            "Test loss: 0.483483, Test Accuracy: 81.689346, Test f1_score:0.809608\n",
            "\n",
            "\n",
            "Epoch [6/15],Training Loss: 0.6208,Accuracy:74.767804,f1score: 0.7247\n",
            "Test loss: 0.283360, Test Accuracy: 90.433675, Test f1_score:0.904420\n",
            "\n",
            "\n",
            "Epoch [7/15],Training Loss: 0.5807,Accuracy:76.660621,f1score: 0.7465\n",
            "Test loss: 0.332111, Test Accuracy: 88.038552, Test f1_score:0.876538\n",
            "\n",
            "\n",
            "Epoch [8/15],Training Loss: 0.5407,Accuracy:78.454328,f1score: 0.7668\n",
            "Test loss: 0.275672, Test Accuracy: 91.581631, Test f1_score:0.916319\n",
            "\n",
            "\n",
            "Epoch [9/15],Training Loss: 0.5081,Accuracy:79.949319,f1score: 0.7837\n",
            "Test loss: 0.194521, Test Accuracy: 95.153064, Test f1_score:0.951473\n",
            "\n",
            "\n",
            "Epoch [10/15],Training Loss: 0.4757,Accuracy:81.333667,f1score: 0.7991\n",
            "Test loss: 0.147650, Test Accuracy: 95.181406, Test f1_score:0.952093\n",
            "\n",
            "\n",
            "Epoch [11/15],Training Loss: 0.4451,Accuracy:82.625878,f1score: 0.8133\n",
            "Test loss: 0.150100, Test Accuracy: 95.691609, Test f1_score:0.957823\n",
            "\n",
            "\n",
            "Epoch [12/15],Training Loss: 0.4172,Accuracy:83.763361,f1score: 0.8257\n",
            "Test loss: 0.126818, Test Accuracy: 96.045917, Test f1_score:0.960250\n",
            "\n",
            "\n",
            "Epoch [13/15],Training Loss: 0.3912,Accuracy:84.775537,f1score: 0.8367\n",
            "Test loss: 0.123620, Test Accuracy: 96.301019, Test f1_score:0.962708\n",
            "\n",
            "\n",
            "Epoch [14/15],Training Loss: 0.3671,Accuracy:85.734576,f1score: 0.8471\n",
            "Test loss: 0.107457, Test Accuracy: 97.321427, Test f1_score:0.973221\n",
            "\n",
            "\n",
            "Epoch [15/15],Training Loss: 0.3453,Accuracy:86.602837,f1score: 0.8565\n",
            "Test loss: 0.106892, Test Accuracy: 97.576529, Test f1_score:0.975587\n",
            "\n",
            "\n"
          ],
          "name": "stdout"
        },
        {
          "output_type": "display_data",
          "data": {
            "image/png": "[encoded data removed]",
            "text/plain": [
              "<Figure size 432x288 with 1 Axes>"
            ]
          },
          "metadata": {
            "tags": [],
            "needs_background": "light"
          }
        },
        {
          "output_type": "display_data",
          "data": {
            "image/png": "[encoded data removed]",
            "text/plain": [
              "<Figure size 432x288 with 1 Axes>"
            ]
          },
          "metadata": {
            "tags": [],
            "needs_background": "light"
          }
        }
      ]
    },
    {
      "cell_type": "code",
      "metadata": {
        "id": "WykfEvdsr7PK",
        "colab": {
          "base_uri": "https://localhost:8080/"
        },
        "outputId": "404ce337-4a51-4a74-89d6-fdae85120c05"
      },
      "source": [
        "print_eval(evaluate(incp_v3_1, test_loader))"
      ],
      "execution_count": null,
      "outputs": [
        {
          "output_type": "stream",
          "text": [
            "Test loss: 0.158012, Test Accuracy: 94.387758, Test f1_score:0.968560\n"
          ],
          "name": "stdout"
        }
      ]
    },
    {
      "cell_type": "markdown",
      "metadata": {
        "id": "P8F1irMj75xD"
      },
      "source": [
        "**Model 13: Inception v3 pretrained:**"
      ]
    },
    {
      "cell_type": "code",
      "metadata": {
        "id": "gDs9X2DB78-o",
        "colab": {
          "base_uri": "https://localhost:8080/",
          "height": 1000,
          "referenced_widgets": [
            "b7c2e5805f5543d5a22c4d7676000cbe",
            "257c7f1e09794c23a84799ae220b3c63",
            "6208d8517dfe45fcb1628a79e0faf47a",
            "75cac4dd225349eda0ffeae6b91ad0ad",
            "c198c1a47405435f9c19880003409389",
            "cf413ce266754cb0a5d8698dc48b0aa2",
            "e8d05f3f8e704801bc4f5ba3d01f34ba",
            "b83e1ae9c36a4f2ba7fde48f0a01f8b8"
          ]
        },
        "outputId": "37b6c857-37af-4d51-9b5a-b5f598b0ffb1"
      },
      "source": [
        "incp_v3 = models.inception_v3(pretrained=True,aux_logits=False)\n",
        "incp_v3.to(device)\n",
        "num_ftrs = incp_v3.fc.in_features\n",
        "incp_v3.fc = nn.Linear(num_ftrs, 3).to(device)\n",
        "training_loop(incp_v3,15)"
      ],
      "execution_count": null,
      "outputs": [
        {
          "output_type": "stream",
          "text": [
            "Downloading: \"https://download.pytorch.org/models/inception_v3_google-1a9a5a14.pth\" to /root/.cache/torch/hub/checkpoints/inception_v3_google-1a9a5a14.pth\n"
          ],
          "name": "stderr"
        },
        {
          "output_type": "display_data",
          "data": {
            "application/vnd.jupyter.widget-view+json": {
              "model_id": "b7c2e5805f5543d5a22c4d7676000cbe",
              "version_minor": 0,
              "version_major": 2
            },
            "text/plain": [
              "HBox(children=(FloatProgress(value=0.0, max=108857766.0), HTML(value='')))"
            ]
          },
          "metadata": {
            "tags": []
          }
        },
        {
          "output_type": "stream",
          "text": [
            "\n",
            "Epoch [1/15],Training Loss: 0.3919,Accuracy:85.853827,f1score: 0.8591\n",
            "Test loss: 0.248677, Test Accuracy: 91.581631, Test f1_score:0.916266\n",
            "\n",
            "\n",
            "Epoch [2/15],Training Loss: 0.7685,Accuracy:61.437583,f1score: 0.5403\n",
            "Test loss: 1.097787, Test Accuracy: 34.481290, Test f1_score:0.189402\n",
            "\n",
            "\n",
            "Epoch [3/15],Training Loss: 0.8792,Accuracy:52.578872,f1score: 0.4244\n",
            "Test loss: 1.097205, Test Accuracy: 34.608841, Test f1_score:0.189158\n",
            "\n",
            "\n",
            "Epoch [4/15],Training Loss: 0.9340,Accuracy:47.827482,f1score: 0.3637\n",
            "Test loss: 1.099540, Test Accuracy: 34.608841, Test f1_score:0.189378\n",
            "\n",
            "\n",
            "Epoch [5/15],Training Loss: 299784224.0000,Accuracy:45.341688,f1score: 0.3301\n",
            "Test loss: 412819646.857143, Test Accuracy: 34.708050, Test f1_score:0.193971\n",
            "\n",
            "\n",
            "Epoch [6/15],Training Loss: 334288781312.0000,Accuracy:43.402991,f1score: 0.3056\n",
            "Test loss: 223126.438776, Test Accuracy: 34.282878, Test f1_score:0.183177\n",
            "\n",
            "\n",
            "Epoch [7/15],Training Loss: 286533287936.0000,Accuracy:41.690761,f1score: 0.2851\n",
            "Test loss: 8274.615354, Test Accuracy: 34.282878, Test f1_score:0.185921\n",
            "\n",
            "\n",
            "Epoch [8/15],Training Loss: 250716618752.0000,Accuracy:40.668294,f1score: 0.2721\n",
            "Test loss: 1366.424050, Test Accuracy: 34.382084, Test f1_score:0.189380\n",
            "\n",
            "\n",
            "Epoch [9/15],Training Loss: 222859214848.0000,Accuracy:40.044278,f1score: 0.2635\n",
            "Test loss: 112.301445, Test Accuracy: 34.382084, Test f1_score:0.186028\n",
            "\n",
            "\n",
            "Epoch [10/15],Training Loss: 200573304832.0000,Accuracy:39.280039,f1score: 0.2539\n",
            "Test loss: 272.201920, Test Accuracy: 34.807256, Test f1_score:0.190237\n",
            "\n",
            "\n",
            "Epoch [11/15],Training Loss: 182339354624.0000,Accuracy:38.697565,f1score: 0.2468\n",
            "Test loss: 717.061167, Test Accuracy: 34.481290, Test f1_score:0.187319\n",
            "\n",
            "\n",
            "Epoch [12/15],Training Loss: 167144407040.0000,Accuracy:38.229686,f1score: 0.2409\n",
            "Test loss: 645.556008, Test Accuracy: 30.711451, Test f1_score:0.156064\n",
            "\n",
            "\n",
            "Epoch [13/15],Training Loss: 154287144960.0000,Accuracy:37.938857,f1score: 0.2369\n",
            "Test loss: 140.278101, Test Accuracy: 34.608841, Test f1_score:0.189557\n",
            "\n",
            "\n",
            "Epoch [14/15],Training Loss: 143266643968.0000,Accuracy:37.556428,f1score: 0.2323\n",
            "Test loss: 27.018623, Test Accuracy: 34.807256, Test f1_score:0.188194\n",
            "\n",
            "\n",
            "Epoch [15/15],Training Loss: 133715525632.0000,Accuracy:37.192559,f1score: 0.2282\n",
            "Test loss: 1.259328, Test Accuracy: 34.807256, Test f1_score:0.189412\n",
            "\n",
            "\n"
          ],
          "name": "stdout"
        },
        {
          "output_type": "display_data",
          "data": {
            "image/png": "[encoded data removed]",
            "text/plain": [
              "<Figure size 432x288 with 1 Axes>"
            ]
          },
          "metadata": {
            "tags": [],
            "needs_background": "light"
          }
        },
        {
          "output_type": "display_data",
          "data": {
            "image/png": "[encoded data removed]",
            "text/plain": [
              "<Figure size 432x288 with 1 Axes>"
            ]
          },
          "metadata": {
            "tags": [],
            "needs_background": "light"
          }
        }
      ]
    },
    {
      "cell_type": "code",
      "metadata": {
        "id": "dnLS5lzt9eoE",
        "colab": {
          "base_uri": "https://localhost:8080/"
        },
        "outputId": "ea213dc1-40d3-46ed-c8ef-94b0de5a2510"
      },
      "source": [
        "print_eval(evaluate(incp_v3, test_loader))"
      ],
      "execution_count": null,
      "outputs": [
        {
          "output_type": "stream",
          "text": [
            "Test loss: 1.257785, Test Accuracy: 35.076532, Test f1_score:0.348147\n"
          ],
          "name": "stdout"
        }
      ]
    }
  ]
}